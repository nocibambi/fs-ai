{
 "cells": [
  {
   "cell_type": "markdown",
   "metadata": {},
   "source": [
    "# Importing libraries"
   ]
  },
  {
   "cell_type": "markdown",
   "metadata": {},
   "source": [
    "## Basics"
   ]
  },
  {
   "cell_type": "code",
   "execution_count": 1,
   "metadata": {
    "scrolled": true
   },
   "outputs": [],
   "source": [
    "import pandas as pd\n",
    "import numpy as np\n",
    "from matplotlib import pyplot"
   ]
  },
  {
   "cell_type": "markdown",
   "metadata": {},
   "source": [
    "## Exploratory data analysis"
   ]
  },
  {
   "cell_type": "code",
   "execution_count": 2,
   "metadata": {},
   "outputs": [],
   "source": [
    "from pandas.plotting import scatter_matrix\n",
    "from sklearn.model_selection import ShuffleSplit"
   ]
  },
  {
   "cell_type": "markdown",
   "metadata": {},
   "source": [
    "## Cross validation"
   ]
  },
  {
   "cell_type": "code",
   "execution_count": 3,
   "metadata": {
    "scrolled": true
   },
   "outputs": [],
   "source": [
    "from sklearn.model_selection import train_test_split\n",
    "from sklearn.model_selection import KFold\n",
    "from sklearn.model_selection import cross_val_score\n",
    "from sklearn.model_selection import cross_validate"
   ]
  },
  {
   "cell_type": "markdown",
   "metadata": {},
   "source": [
    "## Models"
   ]
  },
  {
   "cell_type": "code",
   "execution_count": 4,
   "metadata": {
    "scrolled": true
   },
   "outputs": [],
   "source": [
    "from sklearn.tree import DecisionTreeClassifier, ExtraTreeClassifier\n",
    "from sklearn.ensemble import ExtraTreesClassifier, RandomForestClassifier\n",
    "from sklearn.neighbors import KNeighborsClassifier, RadiusNeighborsClassifier\n",
    "from sklearn.linear_model import LogisticRegression\n",
    "from sklearn.discriminant_analysis import LinearDiscriminantAnalysis"
   ]
  },
  {
   "cell_type": "markdown",
   "metadata": {},
   "source": [
    "## Metrics"
   ]
  },
  {
   "cell_type": "code",
   "execution_count": 5,
   "metadata": {},
   "outputs": [],
   "source": [
    "from sklearn.metrics import classification_report\n",
    "from sklearn.metrics import confusion_matrix\n",
    "from sklearn.metrics import roc_auc_score as auc_score\n",
    "from sklearn.metrics import accuracy_score\n",
    "from sklearn.metrics import precision_score"
   ]
  },
  {
   "cell_type": "markdown",
   "metadata": {},
   "source": [
    "# Exploratory data analysis"
   ]
  },
  {
   "cell_type": "markdown",
   "metadata": {},
   "source": [
    "Loading the data:"
   ]
  },
  {
   "cell_type": "code",
   "execution_count": 6,
   "metadata": {},
   "outputs": [],
   "source": [
    "#gtd_ori = pd.read_excel(\"globalterrorismdb_0617dist.xlsx\")"
   ]
  },
  {
   "cell_type": "markdown",
   "metadata": {},
   "source": [
    "Taking a random sample of the data."
   ]
  },
  {
   "cell_type": "code",
   "execution_count": 7,
   "metadata": {},
   "outputs": [],
   "source": [
    "#smp = gtd_ori.sample(frac=0.25, random_state=4721)\n",
    "#smp.to_excel(\"sample.xlsx\")\n",
    "gtd = pd.read_excel(\"sample.xlsx\")"
   ]
  },
  {
   "cell_type": "code",
   "execution_count": 8,
   "metadata": {},
   "outputs": [
    {
     "name": "stdout",
     "output_type": "stream",
     "text": [
      "<class 'pandas.core.frame.DataFrame'>\n",
      "Int64Index: 42588 entries, 145918 to 94344\n",
      "Data columns (total 135 columns):\n",
      "eventid               42588 non-null int64\n",
      "iyear                 42588 non-null int64\n",
      "imonth                42588 non-null int64\n",
      "iday                  42588 non-null int64\n",
      "approxdate            1876 non-null object\n",
      "extended              42588 non-null int64\n",
      "resolution            560 non-null datetime64[ns]\n",
      "country               42588 non-null int64\n",
      "country_txt           42588 non-null object\n",
      "region                42588 non-null int64\n",
      "region_txt            42588 non-null object\n",
      "provstate             38954 non-null object\n",
      "city                  42485 non-null object\n",
      "latitude              41454 non-null float64\n",
      "longitude             41454 non-null float64\n",
      "specificity           42587 non-null float64\n",
      "vicinity              42588 non-null int64\n",
      "location              11964 non-null object\n",
      "summary               26054 non-null object\n",
      "crit1                 42588 non-null int64\n",
      "crit2                 42588 non-null int64\n",
      "crit3                 42588 non-null int64\n",
      "doubtterr             42588 non-null int64\n",
      "alternative           6663 non-null float64\n",
      "alternative_txt       6663 non-null object\n",
      "multiple              42588 non-null int64\n",
      "success               42588 non-null int64\n",
      "suicide               42588 non-null int64\n",
      "attacktype1           42588 non-null int64\n",
      "attacktype1_txt       42588 non-null object\n",
      "attacktype2           1440 non-null float64\n",
      "attacktype2_txt       1440 non-null object\n",
      "attacktype3           89 non-null float64\n",
      "attacktype3_txt       89 non-null object\n",
      "targtype1             42588 non-null int64\n",
      "targtype1_txt         42588 non-null object\n",
      "targsubtype1          40231 non-null float64\n",
      "targsubtype1_txt      40231 non-null object\n",
      "corp1                 32000 non-null object\n",
      "target1               42430 non-null object\n",
      "natlty1               42225 non-null float64\n",
      "natlty1_txt           42225 non-null object\n",
      "targtype2             2498 non-null float64\n",
      "targtype2_txt         2498 non-null object\n",
      "targsubtype2          2384 non-null float64\n",
      "targsubtype2_txt      2384 non-null object\n",
      "corp2                 2241 non-null object\n",
      "target2               2463 non-null object\n",
      "natlty2               2422 non-null float64\n",
      "natlty2_txt           2422 non-null object\n",
      "targtype3             256 non-null float64\n",
      "targtype3_txt         256 non-null object\n",
      "targsubtype3          237 non-null float64\n",
      "targsubtype3_txt      237 non-null object\n",
      "corp3                 223 non-null object\n",
      "target3               256 non-null object\n",
      "natlty3               250 non-null float64\n",
      "natlty3_txt           250 non-null object\n",
      "gname                 42588 non-null object\n",
      "gsubname              1284 non-null object\n",
      "gname2                450 non-null object\n",
      "gsubname2             38 non-null object\n",
      "gname3                62 non-null object\n",
      "gsubname3             2 non-null object\n",
      "motive                12147 non-null object\n",
      "guncertain1           42492 non-null float64\n",
      "guncertain2           438 non-null float64\n",
      "guncertain3           62 non-null float64\n",
      "individual            42588 non-null int64\n",
      "nperps                24824 non-null float64\n",
      "nperpcap              25175 non-null float64\n",
      "claimed               26055 non-null float64\n",
      "claimmode             4077 non-null float64\n",
      "claimmode_txt         4077 non-null object\n",
      "claim2                407 non-null float64\n",
      "claimmode2            140 non-null float64\n",
      "claimmode2_txt        140 non-null object\n",
      "claim3                61 non-null float64\n",
      "claimmode3            25 non-null float64\n",
      "claimmode3_txt        25 non-null object\n",
      "compclaim             1227 non-null float64\n",
      "weaptype1             42588 non-null int64\n",
      "weaptype1_txt         42588 non-null object\n",
      "weapsubtype1          37659 non-null float64\n",
      "weapsubtype1_txt      37659 non-null object\n",
      "weaptype2             3035 non-null float64\n",
      "weaptype2_txt         3035 non-null object\n",
      "weapsubtype2          2668 non-null float64\n",
      "weapsubtype2_txt      2668 non-null object\n",
      "weaptype3             427 non-null float64\n",
      "weaptype3_txt         427 non-null object\n",
      "weapsubtype3          389 non-null float64\n",
      "weapsubtype3_txt      389 non-null object\n",
      "weaptype4             20 non-null float64\n",
      "weaptype4_txt         20 non-null object\n",
      "weapsubtype4          18 non-null float64\n",
      "weapsubtype4_txt      18 non-null object\n",
      "weapdetail            27643 non-null object\n",
      "nkill                 40101 non-null float64\n",
      "nkillus               26464 non-null float64\n",
      "nkillter              25936 non-null float64\n",
      "nwound                38727 non-null float64\n",
      "nwoundus              26396 non-null float64\n",
      "nwoundte              25392 non-null float64\n",
      "property              42588 non-null int64\n",
      "propextent            15026 non-null float64\n",
      "propextent_txt        15026 non-null object\n",
      "propvalue             8805 non-null float64\n",
      "propcomment           13594 non-null object\n",
      "ishostkid             42539 non-null float64\n",
      "nhostkid              3230 non-null float64\n",
      "nhostkidus            3218 non-null float64\n",
      "nhours                964 non-null float64\n",
      "ndays                 1902 non-null float64\n",
      "divert                80 non-null object\n",
      "kidhijcountry         850 non-null object\n",
      "ransom                19191 non-null float64\n",
      "ransomamt             349 non-null float64\n",
      "ransomamtus           128 non-null float64\n",
      "ransompaid            178 non-null float64\n",
      "ransompaidus          125 non-null float64\n",
      "ransomnote            135 non-null object\n",
      "hostkidoutcome        2605 non-null float64\n",
      "hostkidoutcome_txt    2605 non-null object\n",
      "nreleased             2456 non-null float64\n",
      "addnotes              6390 non-null object\n",
      "scite1                26041 non-null object\n",
      "scite2                17318 non-null object\n",
      "scite3                9771 non-null object\n",
      "dbsource              42588 non-null object\n",
      "INT_LOG               42588 non-null int64\n",
      "INT_IDEO              42588 non-null int64\n",
      "INT_MISC              42588 non-null int64\n",
      "INT_ANY               42588 non-null int64\n",
      "related               5614 non-null object\n",
      "dtypes: datetime64[ns](1), float64(53), int64(24), object(57)\n",
      "memory usage: 44.2+ MB\n"
     ]
    }
   ],
   "source": [
    "gtd.info(verbose=True, null_counts=True, max_cols=True)"
   ]
  },
  {
   "cell_type": "markdown",
   "metadata": {},
   "source": [
    "### Column data types and the number of unique values in them."
   ]
  },
  {
   "cell_type": "code",
   "execution_count": 9,
   "metadata": {},
   "outputs": [],
   "source": [
    "uniques = gtd.nunique()\n",
    "types = gtd.dtypes"
   ]
  },
  {
   "cell_type": "code",
   "execution_count": 10,
   "metadata": {},
   "outputs": [
    {
     "name": "stdout",
     "output_type": "stream",
     "text": [
      "\n",
      "int64:\n",
      "\n",
      "eventid        42588\n",
      "country          183\n",
      "iyear             46\n",
      "iday              32\n",
      "targtype1         22\n",
      "imonth            13\n",
      "region            12\n",
      "weaptype1         12\n",
      "attacktype1        9\n",
      "INT_MISC           3\n",
      "INT_IDEO           3\n",
      "INT_LOG            3\n",
      "property           3\n",
      "INT_ANY            3\n",
      "doubtterr          3\n",
      "vicinity           3\n",
      "suicide            2\n",
      "success            2\n",
      "individual         2\n",
      "crit3              2\n",
      "crit2              2\n",
      "crit1              2\n",
      "extended           2\n",
      "multiple           2\n",
      "Name: uniques, dtype: int64\n",
      "\n",
      "\n",
      "object:\n",
      "\n",
      "summary               25703\n",
      "target1               23296\n",
      "scite1                22616\n",
      "scite2                15947\n",
      "city                  13031\n",
      "location              10912\n",
      "corp1                  9994\n",
      "scite3                 9069\n",
      "weapdetail             5795\n",
      "propcomment            5587\n",
      "related                5386\n",
      "addnotes               4251\n",
      "motive                 3874\n",
      "gname                  1710\n",
      "provstate              1625\n",
      "target2                1364\n",
      "approxdate             1005\n",
      "corp2                   819\n",
      "gsubname                461\n",
      "target3                 195\n",
      "natlty1_txt             190\n",
      "gname2                  185\n",
      "country_txt             183\n",
      "kidhijcountry           126\n",
      "natlty2_txt             121\n",
      "corp3                   116\n",
      "targsubtype1_txt        110\n",
      "ransomnote              106\n",
      "targsubtype2_txt         80\n",
      "natlty3_txt              63\n",
      "targsubtype3_txt         57\n",
      "divert                   56\n",
      "gname3                   40\n",
      "weapsubtype1_txt         29\n",
      "gsubname2                28\n",
      "weapsubtype2_txt         26\n",
      "dbsource                 25\n",
      "targtype1_txt            22\n",
      "targtype2_txt            22\n",
      "weapsubtype3_txt         21\n",
      "targtype3_txt            20\n",
      "region_txt               12\n",
      "weaptype1_txt            12\n",
      "weaptype2_txt            10\n",
      "weaptype3_txt            10\n",
      "claimmode_txt            10\n",
      "attacktype2_txt           9\n",
      "claimmode2_txt            9\n",
      "attacktype1_txt           9\n",
      "weapsubtype4_txt          8\n",
      "attacktype3_txt           7\n",
      "hostkidoutcome_txt        7\n",
      "claimmode3_txt            6\n",
      "alternative_txt           5\n",
      "weaptype4_txt             4\n",
      "propextent_txt            3\n",
      "gsubname3                 2\n",
      "Name: uniques, dtype: int64\n",
      "\n",
      "\n",
      "datetime64[ns]:\n",
      "\n",
      "resolution    531\n",
      "Name: uniques, dtype: int64\n",
      "\n",
      "\n",
      "float64:\n",
      "\n",
      "latitude          20568\n",
      "longitude         20436\n",
      "propvalue           245\n",
      "natlty1             190\n",
      "nwound              154\n",
      "ransomamt           145\n",
      "ndays               136\n",
      "nkill               125\n",
      "natlty2             121\n",
      "targsubtype1        110\n",
      "nhostkid            108\n",
      "targsubtype2         80\n",
      "nreleased            78\n",
      "nperps               76\n",
      "natlty3              63\n",
      "targsubtype3         57\n",
      "nkillter             57\n",
      "ransompaid           39\n",
      "nperpcap             32\n",
      "weapsubtype1         29\n",
      "nhours               27\n",
      "nwoundte             27\n",
      "weapsubtype2         26\n",
      "nwoundus             25\n",
      "targtype2            22\n",
      "weapsubtype3         21\n",
      "targtype3            20\n",
      "nkillus              17\n",
      "nhostkidus           15\n",
      "weaptype2            10\n",
      "claimmode            10\n",
      "weaptype3            10\n",
      "attacktype2           9\n",
      "claimmode2            9\n",
      "weapsubtype4          8\n",
      "hostkidoutcome        7\n",
      "ransomamtus           7\n",
      "attacktype3           7\n",
      "claimmode3            6\n",
      "alternative           5\n",
      "specificity           5\n",
      "weaptype4             4\n",
      "propextent            3\n",
      "claimed               3\n",
      "ishostkid             3\n",
      "claim2                3\n",
      "ransom                3\n",
      "compclaim             3\n",
      "ransompaidus          3\n",
      "claim3                2\n",
      "guncertain3           2\n",
      "guncertain2           2\n",
      "guncertain1           2\n",
      "Name: uniques, dtype: int64\n",
      "\n"
     ]
    }
   ],
   "source": [
    "atts = pd.concat([uniques, types], axis=1)\n",
    "#atts.rename(columns=['types', 'uniques'], inplace=True)\n",
    "atts.columns = ['uniques', 'types']\n",
    "\n",
    "for coltype in atts.types.unique():\n",
    "    clist = atts[atts.types == coltype].sort_values(by='uniques', ascending=False)\n",
    "    print(\"\\n{}:\\n\\n{}\\n\".format(coltype, clist.uniques))"
   ]
  },
  {
   "cell_type": "markdown",
   "metadata": {},
   "source": [
    "## Attribute domain categories"
   ]
  },
  {
   "cell_type": "markdown",
   "metadata": {},
   "source": [
    "Based on the GTD Codebook (adjusted with own analysis), the dataset consists of the following attribute groups:\n",
    "1. Time\n",
    "2. Location\n",
    "3. Incident\n",
    "4. Attack\n",
    "5. Perpetrators\n",
    "6. Perpetrator validity\n",
    "7. Weapon\n",
    "8. Target\n",
    "9. Casualties and consequences\n",
    "10. Additional information"
   ]
  },
  {
   "cell_type": "code",
   "execution_count": 11,
   "metadata": {},
   "outputs": [],
   "source": [
    "att_time = ['eventid', 'iyear', 'imonth', 'iday', 'approxdate', 'extended', 'resolution']\n",
    "att_loc = ['country', 'country_txt', 'region', 'region_txt', 'provstate', 'city', 'latitude', 'longitude', 'specificity','vicinity', 'location']\n",
    "att_incid = ['summary', 'crit1', 'crit2', 'crit3', 'doubtterr', 'alternative', 'alternative_txt', 'multiple', 'related']\n",
    "att_attack = ['success', 'suicide', 'attacktype1', 'attacktype1_txt', 'attacktype2', 'attacktype2_txt', 'attacktype3', 'attacktype3_txt']\n",
    "att_perp = ['gname', 'gsubname', 'gname2', 'gsubname2', 'gname3', 'gsubname3']\n",
    "att_perval = ['motive', 'guncertain1', 'guncertain2', 'guncertain3', 'individual', 'nperps', 'nperpcap', 'claimed', 'claimmode', 'claimmode_txt', 'claim2', 'claimmode2', 'claimmode2_txt', 'claim3', 'claimmode3', 'claimmode3_txt', 'compclaim']\n",
    "att_weap = ['weaptype1', 'weaptype1_txt', 'weapsubtype1', 'weapsubtype1_txt', 'weaptype2', 'weaptype2_txt', 'weapsubtype2', 'weapsubtype2_txt', 'weaptype3', 'weaptype3_txt', 'weapsubtype3', 'weapsubtype3_txt', 'weaptype4', 'weaptype4_txt', 'weapsubtype4', 'weapsubtype4_txt', 'weapdetail']\n",
    "att_targ = ['targtype1', 'targtype1_txt', 'targsubtype1', 'targsubtype1_txt', 'corp1', 'target1', 'natlty1', 'natlty1_txt', 'targtype2', 'targtype2_txt', 'targsubtype2', 'targsubtype2_txt', 'corp2', 'target2', 'natlty2', 'natlty2_txt', 'targtype3', 'targtype3_txt', 'targsubtype3', 'targsubtype3_txt', 'corp3', 'target3', 'natlty3', 'natlty3_txt']\n",
    "att_cons = ['nkill', 'nkillus', 'nkillter', 'nwound', 'nwoundus', 'nwoundte', 'property', 'propextent', 'propextent_txt', 'propvalue', 'propcomment', 'ishostkid', 'nhostkid', 'nhostkidus', 'nhours', 'ndays', 'divert', 'kidhijcountry', 'ransom', 'ransomamt', 'ransomamtus', 'ransompaid', 'ransompaidus', 'ransomnote', 'hostkidoutcome', 'hostkidoutcome_txt', 'nreleased']\n",
    "att_info = ['addnotes', 'scite1', 'scite2', 'scite3', 'dbsource', 'INT_LOG', 'INT_IDEO', 'INT_MISC', 'INT_ANY',]"
   ]
  },
  {
   "cell_type": "markdown",
   "metadata": {},
   "source": [
    "### From among these the 'att_perp' group contains the target variable(s)."
   ]
  },
  {
   "cell_type": "markdown",
   "metadata": {},
   "source": [
    "## Perpetrator names"
   ]
  },
  {
   "cell_type": "code",
   "execution_count": 12,
   "metadata": {},
   "outputs": [
    {
     "data": {
      "text/html": [
       "<div>\n",
       "<style scoped>\n",
       "    .dataframe tbody tr th:only-of-type {\n",
       "        vertical-align: middle;\n",
       "    }\n",
       "\n",
       "    .dataframe tbody tr th {\n",
       "        vertical-align: top;\n",
       "    }\n",
       "\n",
       "    .dataframe thead th {\n",
       "        text-align: right;\n",
       "    }\n",
       "</style>\n",
       "<table border=\"1\" class=\"dataframe\">\n",
       "  <thead>\n",
       "    <tr style=\"text-align: right;\">\n",
       "      <th></th>\n",
       "      <th>gname</th>\n",
       "      <th>gsubname</th>\n",
       "      <th>gname2</th>\n",
       "      <th>gsubname2</th>\n",
       "      <th>gname3</th>\n",
       "      <th>gsubname3</th>\n",
       "    </tr>\n",
       "  </thead>\n",
       "  <tbody>\n",
       "    <tr>\n",
       "      <th>59099</th>\n",
       "      <td>Muslims</td>\n",
       "      <td>NaN</td>\n",
       "      <td>NaN</td>\n",
       "      <td>NaN</td>\n",
       "      <td>NaN</td>\n",
       "      <td>NaN</td>\n",
       "    </tr>\n",
       "    <tr>\n",
       "      <th>35251</th>\n",
       "      <td>Unknown</td>\n",
       "      <td>NaN</td>\n",
       "      <td>NaN</td>\n",
       "      <td>NaN</td>\n",
       "      <td>NaN</td>\n",
       "      <td>NaN</td>\n",
       "    </tr>\n",
       "    <tr>\n",
       "      <th>122090</th>\n",
       "      <td>Unknown</td>\n",
       "      <td>NaN</td>\n",
       "      <td>NaN</td>\n",
       "      <td>NaN</td>\n",
       "      <td>NaN</td>\n",
       "      <td>NaN</td>\n",
       "    </tr>\n",
       "    <tr>\n",
       "      <th>87606</th>\n",
       "      <td>Ahrar Al-Jalil (Free People of the Galilee)</td>\n",
       "      <td>Ahrar Al Jalil Brigades</td>\n",
       "      <td>Al-Aqsa Martyrs Brigade</td>\n",
       "      <td>NaN</td>\n",
       "      <td>Popular Front for the Liberation of Palestine ...</td>\n",
       "      <td>NaN</td>\n",
       "    </tr>\n",
       "    <tr>\n",
       "      <th>112270</th>\n",
       "      <td>Unknown</td>\n",
       "      <td>NaN</td>\n",
       "      <td>NaN</td>\n",
       "      <td>NaN</td>\n",
       "      <td>NaN</td>\n",
       "      <td>NaN</td>\n",
       "    </tr>\n",
       "    <tr>\n",
       "      <th>137738</th>\n",
       "      <td>Al-Shabaab</td>\n",
       "      <td>NaN</td>\n",
       "      <td>NaN</td>\n",
       "      <td>NaN</td>\n",
       "      <td>NaN</td>\n",
       "      <td>NaN</td>\n",
       "    </tr>\n",
       "    <tr>\n",
       "      <th>157103</th>\n",
       "      <td>Unknown</td>\n",
       "      <td>NaN</td>\n",
       "      <td>NaN</td>\n",
       "      <td>NaN</td>\n",
       "      <td>NaN</td>\n",
       "      <td>NaN</td>\n",
       "    </tr>\n",
       "    <tr>\n",
       "      <th>57838</th>\n",
       "      <td>Bihar People's  Party (Hindu militants)</td>\n",
       "      <td>NaN</td>\n",
       "      <td>NaN</td>\n",
       "      <td>NaN</td>\n",
       "      <td>NaN</td>\n",
       "      <td>NaN</td>\n",
       "    </tr>\n",
       "    <tr>\n",
       "      <th>64053</th>\n",
       "      <td>National United Front for an Independent, Neut...</td>\n",
       "      <td>NaN</td>\n",
       "      <td>NaN</td>\n",
       "      <td>NaN</td>\n",
       "      <td>NaN</td>\n",
       "      <td>NaN</td>\n",
       "    </tr>\n",
       "    <tr>\n",
       "      <th>9300</th>\n",
       "      <td>Unknown</td>\n",
       "      <td>NaN</td>\n",
       "      <td>NaN</td>\n",
       "      <td>NaN</td>\n",
       "      <td>NaN</td>\n",
       "      <td>NaN</td>\n",
       "    </tr>\n",
       "  </tbody>\n",
       "</table>\n",
       "</div>"
      ],
      "text/plain": [
       "                                                    gname  \\\n",
       "59099                                             Muslims   \n",
       "35251                                             Unknown   \n",
       "122090                                            Unknown   \n",
       "87606         Ahrar Al-Jalil (Free People of the Galilee)   \n",
       "112270                                            Unknown   \n",
       "137738                                         Al-Shabaab   \n",
       "157103                                            Unknown   \n",
       "57838             Bihar People's  Party (Hindu militants)   \n",
       "64053   National United Front for an Independent, Neut...   \n",
       "9300                                              Unknown   \n",
       "\n",
       "                       gsubname                   gname2 gsubname2  \\\n",
       "59099                       NaN                      NaN       NaN   \n",
       "35251                       NaN                      NaN       NaN   \n",
       "122090                      NaN                      NaN       NaN   \n",
       "87606   Ahrar Al Jalil Brigades  Al-Aqsa Martyrs Brigade       NaN   \n",
       "112270                      NaN                      NaN       NaN   \n",
       "137738                      NaN                      NaN       NaN   \n",
       "157103                      NaN                      NaN       NaN   \n",
       "57838                       NaN                      NaN       NaN   \n",
       "64053                       NaN                      NaN       NaN   \n",
       "9300                        NaN                      NaN       NaN   \n",
       "\n",
       "                                                   gname3 gsubname3  \n",
       "59099                                                 NaN       NaN  \n",
       "35251                                                 NaN       NaN  \n",
       "122090                                                NaN       NaN  \n",
       "87606   Popular Front for the Liberation of Palestine ...       NaN  \n",
       "112270                                                NaN       NaN  \n",
       "137738                                                NaN       NaN  \n",
       "157103                                                NaN       NaN  \n",
       "57838                                                 NaN       NaN  \n",
       "64053                                                 NaN       NaN  \n",
       "9300                                                  NaN       NaN  "
      ]
     },
     "execution_count": 12,
     "metadata": {},
     "output_type": "execute_result"
    }
   ],
   "source": [
    "gtd[att_perp].sample(10)"
   ]
  },
  {
   "cell_type": "code",
   "execution_count": 13,
   "metadata": {},
   "outputs": [
    {
     "data": {
      "text/html": [
       "<div>\n",
       "<style scoped>\n",
       "    .dataframe tbody tr th:only-of-type {\n",
       "        vertical-align: middle;\n",
       "    }\n",
       "\n",
       "    .dataframe tbody tr th {\n",
       "        vertical-align: top;\n",
       "    }\n",
       "\n",
       "    .dataframe thead th {\n",
       "        text-align: right;\n",
       "    }\n",
       "</style>\n",
       "<table border=\"1\" class=\"dataframe\">\n",
       "  <thead>\n",
       "    <tr style=\"text-align: right;\">\n",
       "      <th></th>\n",
       "      <th>gname</th>\n",
       "      <th>gsubname</th>\n",
       "      <th>gname2</th>\n",
       "      <th>gsubname2</th>\n",
       "      <th>gname3</th>\n",
       "      <th>gsubname3</th>\n",
       "    </tr>\n",
       "  </thead>\n",
       "  <tbody>\n",
       "    <tr>\n",
       "      <th>count</th>\n",
       "      <td>42588</td>\n",
       "      <td>1284</td>\n",
       "      <td>450</td>\n",
       "      <td>38</td>\n",
       "      <td>62</td>\n",
       "      <td>2</td>\n",
       "    </tr>\n",
       "    <tr>\n",
       "      <th>unique</th>\n",
       "      <td>1710</td>\n",
       "      <td>461</td>\n",
       "      <td>185</td>\n",
       "      <td>28</td>\n",
       "      <td>40</td>\n",
       "      <td>2</td>\n",
       "    </tr>\n",
       "    <tr>\n",
       "      <th>top</th>\n",
       "      <td>Unknown</td>\n",
       "      <td>Militants</td>\n",
       "      <td>Al-Nusrah Front</td>\n",
       "      <td>The Family</td>\n",
       "      <td>Islamic State of Iraq and the Levant (ISIL)</td>\n",
       "      <td>Shehryar Mehsud Group</td>\n",
       "    </tr>\n",
       "    <tr>\n",
       "      <th>freq</th>\n",
       "      <td>19632</td>\n",
       "      <td>115</td>\n",
       "      <td>12</td>\n",
       "      <td>5</td>\n",
       "      <td>5</td>\n",
       "      <td>1</td>\n",
       "    </tr>\n",
       "  </tbody>\n",
       "</table>\n",
       "</div>"
      ],
      "text/plain": [
       "          gname   gsubname           gname2   gsubname2  \\\n",
       "count     42588       1284              450          38   \n",
       "unique     1710        461              185          28   \n",
       "top     Unknown  Militants  Al-Nusrah Front  The Family   \n",
       "freq      19632        115               12           5   \n",
       "\n",
       "                                             gname3              gsubname3  \n",
       "count                                            62                      2  \n",
       "unique                                           40                      2  \n",
       "top     Islamic State of Iraq and the Levant (ISIL)  Shehryar Mehsud Group  \n",
       "freq                                              5                      1  "
      ]
     },
     "execution_count": 13,
     "metadata": {},
     "output_type": "execute_result"
    }
   ],
   "source": [
    "gtd[att_perp].describe()"
   ]
  },
  {
   "cell_type": "markdown",
   "metadata": {},
   "source": [
    "### Suspected perpetrators"
   ]
  },
  {
   "cell_type": "markdown",
   "metadata": {},
   "source": [
    "A substantial amount of perpetrator information is in a 'suspected' status."
   ]
  },
  {
   "cell_type": "code",
   "execution_count": 14,
   "metadata": {},
   "outputs": [
    {
     "data": {
      "text/html": [
       "<div>\n",
       "<style scoped>\n",
       "    .dataframe tbody tr th:only-of-type {\n",
       "        vertical-align: middle;\n",
       "    }\n",
       "\n",
       "    .dataframe tbody tr th {\n",
       "        vertical-align: top;\n",
       "    }\n",
       "\n",
       "    .dataframe thead th {\n",
       "        text-align: right;\n",
       "    }\n",
       "</style>\n",
       "<table border=\"1\" class=\"dataframe\">\n",
       "  <thead>\n",
       "    <tr style=\"text-align: right;\">\n",
       "      <th></th>\n",
       "      <th>guncertain1</th>\n",
       "      <th>guncertain2</th>\n",
       "      <th>guncertain3</th>\n",
       "    </tr>\n",
       "  </thead>\n",
       "  <tbody>\n",
       "    <tr>\n",
       "      <th>count</th>\n",
       "      <td>42492.000000</td>\n",
       "      <td>438.000000</td>\n",
       "      <td>62.000000</td>\n",
       "    </tr>\n",
       "    <tr>\n",
       "      <th>mean</th>\n",
       "      <td>0.083451</td>\n",
       "      <td>0.271689</td>\n",
       "      <td>0.258065</td>\n",
       "    </tr>\n",
       "    <tr>\n",
       "      <th>std</th>\n",
       "      <td>0.276566</td>\n",
       "      <td>0.445339</td>\n",
       "      <td>0.441142</td>\n",
       "    </tr>\n",
       "    <tr>\n",
       "      <th>min</th>\n",
       "      <td>0.000000</td>\n",
       "      <td>0.000000</td>\n",
       "      <td>0.000000</td>\n",
       "    </tr>\n",
       "    <tr>\n",
       "      <th>25%</th>\n",
       "      <td>0.000000</td>\n",
       "      <td>0.000000</td>\n",
       "      <td>0.000000</td>\n",
       "    </tr>\n",
       "    <tr>\n",
       "      <th>50%</th>\n",
       "      <td>0.000000</td>\n",
       "      <td>0.000000</td>\n",
       "      <td>0.000000</td>\n",
       "    </tr>\n",
       "    <tr>\n",
       "      <th>75%</th>\n",
       "      <td>0.000000</td>\n",
       "      <td>1.000000</td>\n",
       "      <td>0.750000</td>\n",
       "    </tr>\n",
       "    <tr>\n",
       "      <th>max</th>\n",
       "      <td>1.000000</td>\n",
       "      <td>1.000000</td>\n",
       "      <td>1.000000</td>\n",
       "    </tr>\n",
       "  </tbody>\n",
       "</table>\n",
       "</div>"
      ],
      "text/plain": [
       "        guncertain1  guncertain2  guncertain3\n",
       "count  42492.000000   438.000000    62.000000\n",
       "mean       0.083451     0.271689     0.258065\n",
       "std        0.276566     0.445339     0.441142\n",
       "min        0.000000     0.000000     0.000000\n",
       "25%        0.000000     0.000000     0.000000\n",
       "50%        0.000000     0.000000     0.000000\n",
       "75%        0.000000     1.000000     0.750000\n",
       "max        1.000000     1.000000     1.000000"
      ]
     },
     "execution_count": 14,
     "metadata": {},
     "output_type": "execute_result"
    }
   ],
   "source": [
    "gtd.loc[:,['guncertain1','guncertain2','guncertain3']].describe()"
   ]
  },
  {
   "cell_type": "markdown",
   "metadata": {},
   "source": [
    "On the other hand, the coding is confusing here because it is not clear what does the lack of 'certainty' information means compared to the '0' values."
   ]
  },
  {
   "cell_type": "code",
   "execution_count": 15,
   "metadata": {},
   "outputs": [
    {
     "data": {
      "text/html": [
       "<div>\n",
       "<style scoped>\n",
       "    .dataframe tbody tr th:only-of-type {\n",
       "        vertical-align: middle;\n",
       "    }\n",
       "\n",
       "    .dataframe tbody tr th {\n",
       "        vertical-align: top;\n",
       "    }\n",
       "\n",
       "    .dataframe thead th {\n",
       "        text-align: right;\n",
       "    }\n",
       "</style>\n",
       "<table border=\"1\" class=\"dataframe\">\n",
       "  <thead>\n",
       "    <tr style=\"text-align: right;\">\n",
       "      <th></th>\n",
       "      <th>guncertain1</th>\n",
       "      <th>guncertain2</th>\n",
       "      <th>guncertain3</th>\n",
       "    </tr>\n",
       "  </thead>\n",
       "  <tbody>\n",
       "    <tr>\n",
       "      <th>count</th>\n",
       "      <td>42588.000000</td>\n",
       "      <td>42588.000000</td>\n",
       "      <td>42588.000000</td>\n",
       "    </tr>\n",
       "    <tr>\n",
       "      <th>mean</th>\n",
       "      <td>0.083263</td>\n",
       "      <td>0.002794</td>\n",
       "      <td>0.000376</td>\n",
       "    </tr>\n",
       "    <tr>\n",
       "      <th>std</th>\n",
       "      <td>0.276282</td>\n",
       "      <td>0.052787</td>\n",
       "      <td>0.019379</td>\n",
       "    </tr>\n",
       "    <tr>\n",
       "      <th>min</th>\n",
       "      <td>0.000000</td>\n",
       "      <td>0.000000</td>\n",
       "      <td>0.000000</td>\n",
       "    </tr>\n",
       "    <tr>\n",
       "      <th>25%</th>\n",
       "      <td>0.000000</td>\n",
       "      <td>0.000000</td>\n",
       "      <td>0.000000</td>\n",
       "    </tr>\n",
       "    <tr>\n",
       "      <th>50%</th>\n",
       "      <td>0.000000</td>\n",
       "      <td>0.000000</td>\n",
       "      <td>0.000000</td>\n",
       "    </tr>\n",
       "    <tr>\n",
       "      <th>75%</th>\n",
       "      <td>0.000000</td>\n",
       "      <td>0.000000</td>\n",
       "      <td>0.000000</td>\n",
       "    </tr>\n",
       "    <tr>\n",
       "      <th>max</th>\n",
       "      <td>1.000000</td>\n",
       "      <td>1.000000</td>\n",
       "      <td>1.000000</td>\n",
       "    </tr>\n",
       "  </tbody>\n",
       "</table>\n",
       "</div>"
      ],
      "text/plain": [
       "        guncertain1   guncertain2   guncertain3\n",
       "count  42588.000000  42588.000000  42588.000000\n",
       "mean       0.083263      0.002794      0.000376\n",
       "std        0.276282      0.052787      0.019379\n",
       "min        0.000000      0.000000      0.000000\n",
       "25%        0.000000      0.000000      0.000000\n",
       "50%        0.000000      0.000000      0.000000\n",
       "75%        0.000000      0.000000      0.000000\n",
       "max        1.000000      1.000000      1.000000"
      ]
     },
     "execution_count": 15,
     "metadata": {},
     "output_type": "execute_result"
    }
   ],
   "source": [
    "gtd.loc[:,['guncertain1','guncertain2','guncertain3']].fillna(value=0.0).describe()"
   ]
  },
  {
   "cell_type": "markdown",
   "metadata": {},
   "source": [
    "### Number of incidents per groups"
   ]
  },
  {
   "cell_type": "markdown",
   "metadata": {},
   "source": [
    "More than 45% of the  perpetrators are unknown."
   ]
  },
  {
   "cell_type": "code",
   "execution_count": 16,
   "metadata": {},
   "outputs": [
    {
     "data": {
      "text/plain": [
       "Unknown    0.460975\n",
       "Name: gname, dtype: float64"
      ]
     },
     "execution_count": 16,
     "metadata": {},
     "output_type": "execute_result"
    }
   ],
   "source": [
    "gtd.gname.value_counts(normalize=True).head(1)"
   ]
  },
  {
   "cell_type": "markdown",
   "metadata": {},
   "source": [
    "Around 2% of them is responsible only for one single incident."
   ]
  },
  {
   "cell_type": "code",
   "execution_count": 17,
   "metadata": {},
   "outputs": [
    {
     "data": {
      "text/plain": [
       "0.02080398234244388"
      ]
     },
     "execution_count": 17,
     "metadata": {},
     "output_type": "execute_result"
    }
   ],
   "source": [
    "len(gtd.gname.value_counts()[gtd.gname.value_counts() <= 1]) / len(gtd)"
   ]
  },
  {
   "cell_type": "markdown",
   "metadata": {},
   "source": [
    "The distribution of incidents among the known groups:"
   ]
  },
  {
   "cell_type": "code",
   "execution_count": 82,
   "metadata": {},
   "outputs": [
    {
     "name": "stdout",
     "output_type": "stream",
     "text": [
      "Taliban                                             1615\n",
      "Islamic State of Iraq and the Levant (ISIL)         1108\n",
      "Shining Path (SL)                                   1087\n",
      "Farabundo Marti National Liberation Front (FMLN)     812\n",
      "Al-Shabaab                                           688\n",
      "Name: gname, dtype: int64\n"
     ]
    },
    {
     "data": {
      "text/plain": [
       "<matplotlib.axes._subplots.AxesSubplot at 0x7fddaee22c88>"
      ]
     },
     "execution_count": 82,
     "metadata": {},
     "output_type": "execute_result"
    },
    {
     "data": {
      "image/png": "[encoded data removed]",
      "text/plain": [
       "<matplotlib.figure.Figure at 0x7fddaea62358>"
      ]
     },
     "metadata": {},
     "output_type": "display_data"
    }
   ],
   "source": [
    "inc_grp = gtd[gtd.gname != 'Unknown'].gname.value_counts()\n",
    "print(inc_grp.head())\n",
    "inc_grp.plot(kind='line')"
   ]
  },
  {
   "cell_type": "code",
   "execution_count": 67,
   "metadata": {
    "scrolled": true
   },
   "outputs": [
    {
     "data": {
      "text/plain": [
       "Taliban                                                                      0.070352\n",
       "Islamic State of Iraq and the Levant (ISIL)                                  0.118618\n",
       "Shining Path (SL)                                                            0.165970\n",
       "Farabundo Marti National Liberation Front (FMLN)                             0.201342\n",
       "Al-Shabaab                                                                   0.231312\n",
       "Irish Republican Army (IRA)                                                  0.261065\n",
       "Revolutionary Armed Forces of Colombia (FARC)                                0.287942\n",
       "New People's Army (NPA)                                                      0.314384\n",
       "Kurdistan Workers' Party (PKK)                                               0.338909\n",
       "Boko Haram                                                                   0.361518\n",
       "Basque Fatherland and Freedom (ETA)                                          0.383821\n",
       "Communist Party of India - Maoist (CPI-Maoist)                               0.402553\n",
       "Liberation Tigers of Tamil Eelam (LTTE)                                      0.419977\n",
       "National Liberation Army of Colombia (ELN)                                   0.435877\n",
       "Maoists                                                                      0.451080\n",
       "Tehrik-i-Taliban Pakistan (TTP)                                              0.464105\n",
       "Palestinians                                                                 0.474778\n",
       "Al-Qaida in the Arabian Peninsula (AQAP)                                     0.485450\n",
       "Houthi extremists (Ansar Allah)                                              0.495208\n",
       "Nicaraguan Democratic Force (FDN)                                            0.504443\n",
       "Manuel Rodriguez Patriotic Front (FPMR)                                      0.513199\n",
       "Sikh Extremists                                                              0.521127\n",
       "African National Congress (South Africa)                                     0.528097\n",
       "Al-Qaida in Iraq                                                             0.534936\n",
       "Corsican National Liberation Front (FLNC)                                    0.541688\n",
       "Donetsk People's Republic                                                    0.548223\n",
       "Tupac Amaru Revolutionary Movement (MRTA)                                    0.554626\n",
       "Separatists                                                                  0.560943\n",
       "Muslim extremists                                                            0.566954\n",
       "M-19 (Movement of April 19)                                                  0.572225\n",
       "                                                                               ...   \n",
       "Human Rights Renewal Movement (Renovacion por los Derechos Humanos)          0.998737\n",
       "Communist Armed Nucleus                                                      0.998780\n",
       "Al-Nasir Army (Syria)                                                        0.998824\n",
       "Front of Resistance and National Liberation of Albanians                     0.998867\n",
       "Committee for a National Drive for Peace and Democracy                       0.998911\n",
       "Democratic Party                                                             0.998955\n",
       "Donskoy Army                                                                 0.998998\n",
       "GAC                                                                          0.999042\n",
       "Terror Against Terror                                                        0.999085\n",
       "Coordination of Azawad Movements (CMA)                                       0.999129\n",
       "Mutahida Majlis-e-Amal                                                       0.999172\n",
       "Umbane People's Liberation Army (Swaziland)                                  0.999216\n",
       "Autonomous Intervention Collective Against the Zionist Presence in France    0.999259\n",
       "United Wa State Army                                                         0.999303\n",
       "Africa Marine Commando                                                       0.999347\n",
       "People's Sovereignty Party (PDR)                                             0.999390\n",
       "Anti-Zionist Movement                                                        0.999434\n",
       "Baloch Liberation Tigers (BLT)                                               0.999477\n",
       "Albatros Commando                                                            0.999521\n",
       "Gugama Youth Federation                                                      0.999564\n",
       "Martyr Abu Ja'far Group                                                      0.999608\n",
       "Poverty Brigade                                                              0.999652\n",
       "Veterans United for Non-Religious Memorials                                  0.999695\n",
       "Aba Cheali Group                                                             0.999739\n",
       "Al-Fatihin Army (AFA)                                                        0.999782\n",
       "Black Malian Group                                                           0.999826\n",
       "Ansar Wa Mohajir (Pakistan)                                                  0.999869\n",
       "U/I Private army of wral politician                                          0.999913\n",
       "Islamic Holy Star                                                            0.999956\n",
       "South Group (Russia)                                                         1.000000\n",
       "Name: gname, Length: 1709, dtype: float64"
      ]
     },
     "execution_count": 67,
     "metadata": {},
     "output_type": "execute_result"
    }
   ],
   "source": [
    "inc_grp_csum = gtd[gtd.gname != 'Unknown'].gname.value_counts(normalize=True).cumsum()\n",
    "inc_grp_csum"
   ]
  },
  {
   "cell_type": "code",
   "execution_count": 20,
   "metadata": {},
   "outputs": [
    {
     "data": {
      "text/plain": [
       "0.4046783625730994"
      ]
     },
     "execution_count": 20,
     "metadata": {},
     "output_type": "execute_result"
    }
   ],
   "source": [
    "len(inc_grp_csum[inc_grp_csum <= 0.95]) / len(gtd.gname.unique())"
   ]
  },
  {
   "cell_type": "markdown",
   "metadata": {},
   "source": [
    "### Second and third groups"
   ]
  },
  {
   "cell_type": "code",
   "execution_count": 21,
   "metadata": {},
   "outputs": [],
   "source": [
    "additional_names = gtd.loc[:, ['gname2', 'gname3']].dropna(how='all').groupby(by=gtd.loc[:,'gname']).count()"
   ]
  },
  {
   "cell_type": "code",
   "execution_count": 22,
   "metadata": {},
   "outputs": [
    {
     "data": {
      "text/html": [
       "<div>\n",
       "<style scoped>\n",
       "    .dataframe tbody tr th:only-of-type {\n",
       "        vertical-align: middle;\n",
       "    }\n",
       "\n",
       "    .dataframe tbody tr th {\n",
       "        vertical-align: top;\n",
       "    }\n",
       "\n",
       "    .dataframe thead th {\n",
       "        text-align: right;\n",
       "    }\n",
       "</style>\n",
       "<table border=\"1\" class=\"dataframe\">\n",
       "  <thead>\n",
       "    <tr style=\"text-align: right;\">\n",
       "      <th></th>\n",
       "      <th>gname2</th>\n",
       "      <th>gname3</th>\n",
       "    </tr>\n",
       "    <tr>\n",
       "      <th>gname</th>\n",
       "      <th></th>\n",
       "      <th></th>\n",
       "    </tr>\n",
       "  </thead>\n",
       "  <tbody>\n",
       "    <tr>\n",
       "      <th>Al-Nusrah Front</th>\n",
       "      <td>20</td>\n",
       "      <td>4</td>\n",
       "    </tr>\n",
       "    <tr>\n",
       "      <th>Taliban</th>\n",
       "      <td>19</td>\n",
       "      <td>1</td>\n",
       "    </tr>\n",
       "    <tr>\n",
       "      <th>Tehrik-i-Taliban Pakistan (TTP)</th>\n",
       "      <td>16</td>\n",
       "      <td>2</td>\n",
       "    </tr>\n",
       "    <tr>\n",
       "      <th>Revolutionary Armed Forces of Colombia (FARC)</th>\n",
       "      <td>13</td>\n",
       "      <td>0</td>\n",
       "    </tr>\n",
       "    <tr>\n",
       "      <th>Islamic State of Iraq and the Levant (ISIL)</th>\n",
       "      <td>12</td>\n",
       "      <td>0</td>\n",
       "    </tr>\n",
       "    <tr>\n",
       "      <th>Asa'ib Ahl al-Haqq</th>\n",
       "      <td>10</td>\n",
       "      <td>0</td>\n",
       "    </tr>\n",
       "    <tr>\n",
       "      <th>National Liberation Army of Colombia (ELN)</th>\n",
       "      <td>9</td>\n",
       "      <td>0</td>\n",
       "    </tr>\n",
       "    <tr>\n",
       "      <th>Tupac Amaru Revolutionary Movement (MRTA)</th>\n",
       "      <td>9</td>\n",
       "      <td>0</td>\n",
       "    </tr>\n",
       "    <tr>\n",
       "      <th>Lashkar-e-Taiba (LeT)</th>\n",
       "      <td>9</td>\n",
       "      <td>1</td>\n",
       "    </tr>\n",
       "    <tr>\n",
       "      <th>Al-Shabaab</th>\n",
       "      <td>9</td>\n",
       "      <td>0</td>\n",
       "    </tr>\n",
       "    <tr>\n",
       "      <th>Runda Kumpulan Kecil (RKK)</th>\n",
       "      <td>8</td>\n",
       "      <td>0</td>\n",
       "    </tr>\n",
       "    <tr>\n",
       "      <th>Al-Aqsa Martyrs Brigade</th>\n",
       "      <td>7</td>\n",
       "      <td>0</td>\n",
       "    </tr>\n",
       "    <tr>\n",
       "      <th>Palestinian Islamic Jihad (PIJ)</th>\n",
       "      <td>7</td>\n",
       "      <td>0</td>\n",
       "    </tr>\n",
       "    <tr>\n",
       "      <th>Hamas (Islamic Resistance Movement)</th>\n",
       "      <td>7</td>\n",
       "      <td>2</td>\n",
       "    </tr>\n",
       "    <tr>\n",
       "      <th>Indian Mujahideen</th>\n",
       "      <td>6</td>\n",
       "      <td>4</td>\n",
       "    </tr>\n",
       "    <tr>\n",
       "      <th>Kurdistan Workers' Party (PKK)</th>\n",
       "      <td>6</td>\n",
       "      <td>0</td>\n",
       "    </tr>\n",
       "    <tr>\n",
       "      <th>Islamic State in Bangladesh</th>\n",
       "      <td>6</td>\n",
       "      <td>3</td>\n",
       "    </tr>\n",
       "    <tr>\n",
       "      <th>Adan-Abyan Province of the Islamic State</th>\n",
       "      <td>5</td>\n",
       "      <td>0</td>\n",
       "    </tr>\n",
       "    <tr>\n",
       "      <th>Southern Front</th>\n",
       "      <td>5</td>\n",
       "      <td>3</td>\n",
       "    </tr>\n",
       "    <tr>\n",
       "      <th>Ansar al-Dine (Mali)</th>\n",
       "      <td>5</td>\n",
       "      <td>0</td>\n",
       "    </tr>\n",
       "    <tr>\n",
       "      <th>Haqqani Network</th>\n",
       "      <td>5</td>\n",
       "      <td>0</td>\n",
       "    </tr>\n",
       "    <tr>\n",
       "      <th>Hizbul Mujahideen (HM)</th>\n",
       "      <td>5</td>\n",
       "      <td>1</td>\n",
       "    </tr>\n",
       "    <tr>\n",
       "      <th>United Liberation Front of Assam (ULFA)</th>\n",
       "      <td>5</td>\n",
       "      <td>0</td>\n",
       "    </tr>\n",
       "    <tr>\n",
       "      <th>Movement for Oneness and Jihad in West Africa (MUJAO)</th>\n",
       "      <td>5</td>\n",
       "      <td>2</td>\n",
       "    </tr>\n",
       "    <tr>\n",
       "      <th>Lashkar-e-Jhangvi</th>\n",
       "      <td>4</td>\n",
       "      <td>0</td>\n",
       "    </tr>\n",
       "    <tr>\n",
       "      <th>Al-Qaida in the Islamic Maghreb (AQIM)</th>\n",
       "      <td>4</td>\n",
       "      <td>0</td>\n",
       "    </tr>\n",
       "    <tr>\n",
       "      <th>Khorasan Chapter of the Islamic State</th>\n",
       "      <td>4</td>\n",
       "      <td>2</td>\n",
       "    </tr>\n",
       "    <tr>\n",
       "      <th>Bangsamoro Islamic Freedom Movement (BIFM)</th>\n",
       "      <td>4</td>\n",
       "      <td>0</td>\n",
       "    </tr>\n",
       "    <tr>\n",
       "      <th>Moro Islamic Liberation Front (MILF)</th>\n",
       "      <td>4</td>\n",
       "      <td>0</td>\n",
       "    </tr>\n",
       "    <tr>\n",
       "      <th>Boko Haram</th>\n",
       "      <td>4</td>\n",
       "      <td>0</td>\n",
       "    </tr>\n",
       "    <tr>\n",
       "      <th>...</th>\n",
       "      <td>...</td>\n",
       "      <td>...</td>\n",
       "    </tr>\n",
       "    <tr>\n",
       "      <th>Liberation and Justice Movement (LJM)</th>\n",
       "      <td>1</td>\n",
       "      <td>0</td>\n",
       "    </tr>\n",
       "    <tr>\n",
       "      <th>Liberation Tigers of Tamil Eelam (LTTE)</th>\n",
       "      <td>1</td>\n",
       "      <td>0</td>\n",
       "    </tr>\n",
       "    <tr>\n",
       "      <th>Lebanese National Resistance Front</th>\n",
       "      <td>1</td>\n",
       "      <td>0</td>\n",
       "    </tr>\n",
       "    <tr>\n",
       "      <th>Karen National Union</th>\n",
       "      <td>1</td>\n",
       "      <td>1</td>\n",
       "    </tr>\n",
       "    <tr>\n",
       "      <th>Justice and Equality Movement (JEM)</th>\n",
       "      <td>1</td>\n",
       "      <td>0</td>\n",
       "    </tr>\n",
       "    <tr>\n",
       "      <th>Jundallah (Pakistan)</th>\n",
       "      <td>1</td>\n",
       "      <td>0</td>\n",
       "    </tr>\n",
       "    <tr>\n",
       "      <th>Jund al-Aqsa</th>\n",
       "      <td>1</td>\n",
       "      <td>1</td>\n",
       "    </tr>\n",
       "    <tr>\n",
       "      <th>Jemaah Islamiya (JI)</th>\n",
       "      <td>1</td>\n",
       "      <td>0</td>\n",
       "    </tr>\n",
       "    <tr>\n",
       "      <th>Japanese Red Army (JRA)</th>\n",
       "      <td>1</td>\n",
       "      <td>0</td>\n",
       "    </tr>\n",
       "    <tr>\n",
       "      <th>Jama'atul Mujahideen Bangladesh (JMB)</th>\n",
       "      <td>1</td>\n",
       "      <td>1</td>\n",
       "    </tr>\n",
       "    <tr>\n",
       "      <th>Jaish-e-Mohammad (JeM)</th>\n",
       "      <td>1</td>\n",
       "      <td>0</td>\n",
       "    </tr>\n",
       "    <tr>\n",
       "      <th>1920 Revolution Brigades</th>\n",
       "      <td>1</td>\n",
       "      <td>0</td>\n",
       "    </tr>\n",
       "    <tr>\n",
       "      <th>Jaish al-Mujahideen (Syria)</th>\n",
       "      <td>1</td>\n",
       "      <td>1</td>\n",
       "    </tr>\n",
       "    <tr>\n",
       "      <th>Islamic Jihad Group (IJG)</th>\n",
       "      <td>1</td>\n",
       "      <td>1</td>\n",
       "    </tr>\n",
       "    <tr>\n",
       "      <th>Deccan Mujahideen</th>\n",
       "      <td>1</td>\n",
       "      <td>0</td>\n",
       "    </tr>\n",
       "    <tr>\n",
       "      <th>Iraqi Liberation Army</th>\n",
       "      <td>1</td>\n",
       "      <td>0</td>\n",
       "    </tr>\n",
       "    <tr>\n",
       "      <th>International Revolutionary Front</th>\n",
       "      <td>1</td>\n",
       "      <td>0</td>\n",
       "    </tr>\n",
       "    <tr>\n",
       "      <th>Houthi extremists (Ansar Allah)</th>\n",
       "      <td>1</td>\n",
       "      <td>0</td>\n",
       "    </tr>\n",
       "    <tr>\n",
       "      <th>Hizbul al Islam (Somalia)</th>\n",
       "      <td>1</td>\n",
       "      <td>0</td>\n",
       "    </tr>\n",
       "    <tr>\n",
       "      <th>Hizb-I-Islami</th>\n",
       "      <td>1</td>\n",
       "      <td>0</td>\n",
       "    </tr>\n",
       "    <tr>\n",
       "      <th>Hezbollah</th>\n",
       "      <td>1</td>\n",
       "      <td>0</td>\n",
       "    </tr>\n",
       "    <tr>\n",
       "      <th>Harkatul Jihad-e-Islami</th>\n",
       "      <td>1</td>\n",
       "      <td>0</td>\n",
       "    </tr>\n",
       "    <tr>\n",
       "      <th>Halqa-e-Mehsud</th>\n",
       "      <td>1</td>\n",
       "      <td>0</td>\n",
       "    </tr>\n",
       "    <tr>\n",
       "      <th>Hadramawt Province of the Islamic State</th>\n",
       "      <td>1</td>\n",
       "      <td>0</td>\n",
       "    </tr>\n",
       "    <tr>\n",
       "      <th>Gunmen</th>\n",
       "      <td>1</td>\n",
       "      <td>0</td>\n",
       "    </tr>\n",
       "    <tr>\n",
       "      <th>Gangs of Conscience</th>\n",
       "      <td>1</td>\n",
       "      <td>0</td>\n",
       "    </tr>\n",
       "    <tr>\n",
       "      <th>Fuerzas Armadas de Liberacion Nacional (FALN)</th>\n",
       "      <td>1</td>\n",
       "      <td>1</td>\n",
       "    </tr>\n",
       "    <tr>\n",
       "      <th>Free Libya Martyrs Brigade</th>\n",
       "      <td>1</td>\n",
       "      <td>1</td>\n",
       "    </tr>\n",
       "    <tr>\n",
       "      <th>Dissident Republicans</th>\n",
       "      <td>1</td>\n",
       "      <td>0</td>\n",
       "    </tr>\n",
       "    <tr>\n",
       "      <th>Young Communist League</th>\n",
       "      <td>1</td>\n",
       "      <td>1</td>\n",
       "    </tr>\n",
       "  </tbody>\n",
       "</table>\n",
       "<p>183 rows × 2 columns</p>\n",
       "</div>"
      ],
      "text/plain": [
       "                                                    gname2  gname3\n",
       "gname                                                             \n",
       "Al-Nusrah Front                                         20       4\n",
       "Taliban                                                 19       1\n",
       "Tehrik-i-Taliban Pakistan (TTP)                         16       2\n",
       "Revolutionary Armed Forces of Colombia (FARC)           13       0\n",
       "Islamic State of Iraq and the Levant (ISIL)             12       0\n",
       "Asa'ib Ahl al-Haqq                                      10       0\n",
       "National Liberation Army of Colombia (ELN)               9       0\n",
       "Tupac Amaru Revolutionary Movement (MRTA)                9       0\n",
       "Lashkar-e-Taiba (LeT)                                    9       1\n",
       "Al-Shabaab                                               9       0\n",
       "Runda Kumpulan Kecil (RKK)                               8       0\n",
       "Al-Aqsa Martyrs Brigade                                  7       0\n",
       "Palestinian Islamic Jihad (PIJ)                          7       0\n",
       "Hamas (Islamic Resistance Movement)                      7       2\n",
       "Indian Mujahideen                                        6       4\n",
       "Kurdistan Workers' Party (PKK)                           6       0\n",
       "Islamic State in Bangladesh                              6       3\n",
       "Adan-Abyan Province of the Islamic State                 5       0\n",
       "Southern Front                                           5       3\n",
       "Ansar al-Dine (Mali)                                     5       0\n",
       "Haqqani Network                                          5       0\n",
       "Hizbul Mujahideen (HM)                                   5       1\n",
       "United Liberation Front of Assam (ULFA)                  5       0\n",
       "Movement for Oneness and Jihad in West Africa (...       5       2\n",
       "Lashkar-e-Jhangvi                                        4       0\n",
       "Al-Qaida in the Islamic Maghreb (AQIM)                   4       0\n",
       "Khorasan Chapter of the Islamic State                    4       2\n",
       "Bangsamoro Islamic Freedom Movement (BIFM)               4       0\n",
       "Moro Islamic Liberation Front (MILF)                     4       0\n",
       "Boko Haram                                               4       0\n",
       "...                                                    ...     ...\n",
       "Liberation and Justice Movement (LJM)                    1       0\n",
       "Liberation Tigers of Tamil Eelam (LTTE)                  1       0\n",
       "Lebanese National Resistance Front                       1       0\n",
       "Karen National Union                                     1       1\n",
       "Justice and Equality Movement (JEM)                      1       0\n",
       "Jundallah (Pakistan)                                     1       0\n",
       "Jund al-Aqsa                                             1       1\n",
       "Jemaah Islamiya (JI)                                     1       0\n",
       "Japanese Red Army (JRA)                                  1       0\n",
       "Jama'atul Mujahideen Bangladesh (JMB)                    1       1\n",
       "Jaish-e-Mohammad (JeM)                                   1       0\n",
       "1920 Revolution Brigades                                 1       0\n",
       "Jaish al-Mujahideen (Syria)                              1       1\n",
       "Islamic Jihad Group (IJG)                                1       1\n",
       "Deccan Mujahideen                                        1       0\n",
       "Iraqi Liberation Army                                    1       0\n",
       "International Revolutionary Front                        1       0\n",
       "Houthi extremists (Ansar Allah)                          1       0\n",
       "Hizbul al Islam (Somalia)                                1       0\n",
       "Hizb-I-Islami                                            1       0\n",
       "Hezbollah                                                1       0\n",
       "Harkatul Jihad-e-Islami                                  1       0\n",
       "Halqa-e-Mehsud                                           1       0\n",
       "Hadramawt Province of the Islamic State                  1       0\n",
       "Gunmen                                                   1       0\n",
       "Gangs of Conscience                                      1       0\n",
       "Fuerzas Armadas de Liberacion Nacional (FALN)            1       1\n",
       "Free Libya Martyrs Brigade                               1       1\n",
       "Dissident Republicans                                    1       0\n",
       "Young Communist League                                   1       1\n",
       "\n",
       "[183 rows x 2 columns]"
      ]
     },
     "execution_count": 22,
     "metadata": {},
     "output_type": "execute_result"
    }
   ],
   "source": [
    "additional_names.sort_values(by='gname2', ascending=False)"
   ]
  },
  {
   "cell_type": "markdown",
   "metadata": {},
   "source": [
    "### Subnames"
   ]
  },
  {
   "cell_type": "code",
   "execution_count": 23,
   "metadata": {},
   "outputs": [],
   "source": [
    "sub_names = gtd.loc[:,'gsubname'].dropna().groupby(by=gtd.loc[:,'gname']).count()"
   ]
  },
  {
   "cell_type": "code",
   "execution_count": 24,
   "metadata": {},
   "outputs": [
    {
     "data": {
      "text/plain": [
       "gname\n",
       "Farabundo Marti National Liberation Front (FMLN)            123\n",
       "Revolutionary Armed Forces of Colombia (FARC)               107\n",
       "Sikh Extremists                                             101\n",
       "Islamic State of Iraq and the Levant (ISIL)                  56\n",
       "New People's Army (NPA)                                      53\n",
       "Tehrik-i-Taliban Pakistan (TTP)                              36\n",
       "Tamils                                                       35\n",
       "Kurdistan Workers' Party (PKK)                               34\n",
       "Chechen Rebels                                               32\n",
       "Opposition Group                                             31\n",
       "Hezbollah                                                    30\n",
       "United Popular Action Movement                               27\n",
       "Communist Party of India - Maoist (CPI-Maoist)               25\n",
       "Islamist extremists                                          23\n",
       "National Democratic Front of Bodoland (NDFB)                 22\n",
       "Hutu extremists                                              18\n",
       "Al-Qaida in the Arabian Peninsula (AQAP)                     17\n",
       "Palestinian Islamic Jihad (PIJ)                              15\n",
       "Hamas (Islamic Resistance Movement)                          15\n",
       "Free Syrian Army                                             14\n",
       "Basque Fatherland and Freedom (ETA)                          13\n",
       "Dev Sol                                                      12\n",
       "Communists                                                   12\n",
       "National Liberation Army of Colombia (ELN)                   11\n",
       "Jamaat-E-Islami (Bangladesh)                                 11\n",
       "Abu Nidal Organization (ANO)                                 11\n",
       "Party for the Liberation of the Hutu People (PALIPEHUTU)      9\n",
       "Al-Qaida in the Islamic Maghreb (AQIM)                        9\n",
       "Lorenzo Zelaya Revolutionary Front (LZRF)                     9\n",
       "Naga People                                                   8\n",
       "                                                           ... \n",
       "Strikers                                                      1\n",
       "Movement of the Revolutionary Left (MIR) (Chile)              1\n",
       "Miskito Indian Organization                                   1\n",
       "Eritrean Liberation Front                                     1\n",
       "Jammu and Kashmir Liberation Front                            1\n",
       "Free Aceh Movement (GAM)                                      1\n",
       "Grozny Jamaat                                                 1\n",
       "Guerrilla Army of the Poor (EGP)                              1\n",
       "Hasam Movement                                                1\n",
       "Unemployed Persons                                            1\n",
       "Hindu extremists                                              1\n",
       "Inkatha Freedom Party (IFP)                                   1\n",
       "Irish National Liberation Army (INLA)                         1\n",
       "Turkish People's Liberation Front (TPLF)(THKP-C)              1\n",
       "Jaish al-Adl                                                  1\n",
       "Jaish-e-Mohammad (JeM)                                        1\n",
       "Sudan People's Liberation Army (SPLA)                         1\n",
       "Mayi Mayi                                                     1\n",
       "Jharkhand Liberation Tigers (JLT)                             1\n",
       "Jharkhand Tribal Forces                                       1\n",
       "Kalpar Tribesmen                                              1\n",
       "Karen Insurgents                                              1\n",
       "Ku Klux Klan                                                  1\n",
       "Lashkar-e-Taiba (LeT)                                         1\n",
       "Left-Wing Terrorists                                          1\n",
       "Libya Shield Force                                            1\n",
       "Madhesi Mukti Tigers (MMT)                                    1\n",
       "Martyr Abu Ja'far Group                                       1\n",
       "May 19 Communist Order                                        1\n",
       "Janatantrik Terai Mukti Morcha- Jwala Singh (JTMM-J)          1\n",
       "Name: gsubname, Length: 201, dtype: int64"
      ]
     },
     "execution_count": 24,
     "metadata": {},
     "output_type": "execute_result"
    }
   ],
   "source": [
    "sub_names.sort_values(ascending=False)"
   ]
  },
  {
   "cell_type": "markdown",
   "metadata": {},
   "source": [
    "### Unaffiliated individuals"
   ]
  },
  {
   "cell_type": "markdown",
   "metadata": {},
   "source": [
    "The ratio of unaffiliated individuals is 0.2%"
   ]
  },
  {
   "cell_type": "code",
   "execution_count": 25,
   "metadata": {},
   "outputs": [
    {
     "data": {
      "text/plain": [
       "0.0026063679909833757"
      ]
     },
     "execution_count": 25,
     "metadata": {},
     "output_type": "execute_result"
    }
   ],
   "source": [
    "gtd.individual.value_counts().iloc[1] / len(gtd)"
   ]
  },
  {
   "cell_type": "markdown",
   "metadata": {},
   "source": [
    "There are 314 cases where the perpetrator is an unaffiliated individual but somehow also connected to a vague, broadly defined group:"
   ]
  },
  {
   "cell_type": "code",
   "execution_count": 26,
   "metadata": {},
   "outputs": [
    {
     "data": {
      "text/plain": [
       "Jihadi-inspired extremists      13\n",
       "White extremists                 9\n",
       "Anti-Muslim extremists           8\n",
       "Anti-Government extremists       8\n",
       "Muslim extremists                7\n",
       "Anti-Abortion extremists         7\n",
       "Anti-Semitic extremists          5\n",
       "Iraqi extremists                 3\n",
       "Anti-Police extremists           3\n",
       "Anti-Nuclear extremists          3\n",
       "Right-wing extremists            3\n",
       "Marxists                         2\n",
       "Animal Rights extremists         2\n",
       "Moroccan extremists              1\n",
       "Anti-Sikh extremists             1\n",
       "Anti-Israeli extremists          1\n",
       "Court Reform extremists          1\n",
       "Armenian extremists              1\n",
       "Supporters of Saddam Hussein     1\n",
       "Anti-Immigrant extremists        1\n",
       "Anti-Yanukovych extremists       1\n",
       "Turkish radicals                 1\n",
       "Neo-Nazi extremists              1\n",
       "Anti-Environmentalists           1\n",
       "African-American extremists      1\n",
       "Armenian nationalists            1\n",
       "Gaddafi loyalists                1\n",
       "Name: gname, dtype: int64"
      ]
     },
     "execution_count": 26,
     "metadata": {},
     "output_type": "execute_result"
    }
   ],
   "source": [
    "gtd.gname[(gtd.individual == 1) & (gtd.gname != \"Unknown\")].value_counts()"
   ]
  },
  {
   "cell_type": "markdown",
   "metadata": {},
   "source": [
    "## Missing values"
   ]
  },
  {
   "cell_type": "markdown",
   "metadata": {},
   "source": [
    "From among the total 135 attributes 104 contains missing values. From among these, 75% miss more than 40% of their values."
   ]
  },
  {
   "cell_type": "code",
   "execution_count": 27,
   "metadata": {},
   "outputs": [],
   "source": [
    "def missing_ratio(data):\n",
    "    \"\"\"\n",
    "    Lists missing values ratios for each column in a dataset.\n",
    "    \n",
    "    Takes `data`, dataset.\n",
    "    \n",
    "    Returns the `mrat` dataframe, which lists the columns and their corresponding missing value ratios in descending order.\n",
    "    \"\"\"\n",
    "    mrat = data.isnull().mean()[data.isnull().any() == True]\n",
    "    mrat = mrat.sort_values(ascending=False)\n",
    "    return mrat"
   ]
  },
  {
   "cell_type": "code",
   "execution_count": 28,
   "metadata": {
    "scrolled": true
   },
   "outputs": [
    {
     "data": {
      "text/plain": [
       "gsubname3           0.999953\n",
       "weapsubtype4_txt    0.999577\n",
       "weapsubtype4        0.999577\n",
       "weaptype4           0.999530\n",
       "weaptype4_txt       0.999530\n",
       "claimmode3_txt      0.999413\n",
       "claimmode3          0.999413\n",
       "gsubname2           0.999108\n",
       "claim3              0.998568\n",
       "guncertain3         0.998544\n",
       "gname3              0.998544\n",
       "divert              0.998122\n",
       "attacktype3_txt     0.997910\n",
       "attacktype3         0.997910\n",
       "ransompaidus        0.997065\n",
       "ransomamtus         0.996994\n",
       "ransomnote          0.996830\n",
       "claimmode2_txt      0.996713\n",
       "claimmode2          0.996713\n",
       "ransompaid          0.995820\n",
       "corp3               0.994764\n",
       "targsubtype3        0.994435\n",
       "targsubtype3_txt    0.994435\n",
       "natlty3             0.994130\n",
       "natlty3_txt         0.994130\n",
       "targtype3_txt       0.993989\n",
       "target3             0.993989\n",
       "targtype3           0.993989\n",
       "ransomamt           0.991805\n",
       "weapsubtype3        0.990866\n",
       "                      ...   \n",
       "propextent          0.647178\n",
       "scite2              0.593360\n",
       "ransom              0.549380\n",
       "nperps              0.417113\n",
       "nperpcap            0.408871\n",
       "nwoundte            0.403776\n",
       "nkillter            0.391002\n",
       "scite1              0.388537\n",
       "summary             0.388231\n",
       "claimed             0.388208\n",
       "nwoundus            0.380201\n",
       "nkillus             0.378604\n",
       "weapdetail          0.350920\n",
       "corp1               0.248615\n",
       "weapsubtype1_txt    0.115737\n",
       "weapsubtype1        0.115737\n",
       "nwound              0.090659\n",
       "provstate           0.085329\n",
       "nkill               0.058397\n",
       "targsubtype1        0.055344\n",
       "targsubtype1_txt    0.055344\n",
       "longitude           0.026627\n",
       "latitude            0.026627\n",
       "natlty1_txt         0.008524\n",
       "natlty1             0.008524\n",
       "target1             0.003710\n",
       "city                0.002419\n",
       "guncertain1         0.002254\n",
       "ishostkid           0.001151\n",
       "specificity         0.000023\n",
       "Length: 104, dtype: float64"
      ]
     },
     "execution_count": 28,
     "metadata": {},
     "output_type": "execute_result"
    }
   ],
   "source": [
    "misrat_gtd = missing_ratio(gtd)\n",
    "misrat_gtd"
   ]
  },
  {
   "cell_type": "code",
   "execution_count": 29,
   "metadata": {
    "scrolled": false
   },
   "outputs": [
    {
     "data": {
      "text/plain": [
       "<matplotlib.axes._subplots.AxesSubplot at 0x7fddaba5c0b8>"
      ]
     },
     "execution_count": 29,
     "metadata": {},
     "output_type": "execute_result"
    },
    {
     "data": {
      "image/png": "[encoded data removed]",
      "text/plain": [
       "<matplotlib.figure.Figure at 0x7fddabe98278>"
      ]
     },
     "metadata": {},
     "output_type": "display_data"
    }
   ],
   "source": [
    "misrat_gtd.hist()"
   ]
  },
  {
   "cell_type": "markdown",
   "metadata": {},
   "source": [
    "From among the target variables, only the primary perpetrator's general name (`gname`) is available for every example. For the rest, the missing value ratio is above 95%."
   ]
  },
  {
   "cell_type": "code",
   "execution_count": 30,
   "metadata": {
    "scrolled": true
   },
   "outputs": [
    {
     "data": {
      "text/plain": [
       "gname        0.000000\n",
       "gname2       0.989434\n",
       "gname3       0.998544\n",
       "gsubname     0.969851\n",
       "gsubname2    0.999108\n",
       "gsubname3    0.999953\n",
       "dtype: float64"
      ]
     },
     "execution_count": 30,
     "metadata": {},
     "output_type": "execute_result"
    }
   ],
   "source": [
    "gtd.isnull().mean().sort_index(ascending=True).loc['gname':'gsubname3']"
   ]
  },
  {
   "cell_type": "raw",
   "metadata": {},
   "source": [
    "We drop attributes with missing values and filter for numerical attributes"
   ]
  },
  {
   "cell_type": "code",
   "execution_count": 31,
   "metadata": {},
   "outputs": [
    {
     "name": "stdout",
     "output_type": "stream",
     "text": [
      "<class 'pandas.core.frame.DataFrame'>\n",
      "Int64Index: 40963 entries, 145918 to 94344\n",
      "Data columns (total 29 columns):\n",
      "iyear          40963 non-null int64\n",
      "imonth         40963 non-null int64\n",
      "iday           40963 non-null int64\n",
      "extended       40963 non-null int64\n",
      "country        40963 non-null int64\n",
      "region         40963 non-null int64\n",
      "latitude       40963 non-null float64\n",
      "longitude      40963 non-null float64\n",
      "specificity    40963 non-null float64\n",
      "vicinity       40963 non-null int64\n",
      "crit1          40963 non-null int64\n",
      "crit2          40963 non-null int64\n",
      "crit3          40963 non-null int64\n",
      "doubtterr      40963 non-null int64\n",
      "multiple       40963 non-null int64\n",
      "success        40963 non-null int64\n",
      "suicide        40963 non-null int64\n",
      "attacktype1    40963 non-null int64\n",
      "targtype1      40963 non-null int64\n",
      "natlty1        40963 non-null float64\n",
      "guncertain1    40963 non-null float64\n",
      "individual     40963 non-null int64\n",
      "weaptype1      40963 non-null int64\n",
      "property       40963 non-null int64\n",
      "ishostkid      40963 non-null float64\n",
      "INT_LOG        40963 non-null int64\n",
      "INT_IDEO       40963 non-null int64\n",
      "INT_MISC       40963 non-null int64\n",
      "INT_ANY        40963 non-null int64\n",
      "dtypes: float64(6), int64(23)\n",
      "memory usage: 9.4 MB\n",
      "None\n"
     ]
    },
    {
     "data": {
      "text/html": [
       "<div>\n",
       "<style scoped>\n",
       "    .dataframe tbody tr th:only-of-type {\n",
       "        vertical-align: middle;\n",
       "    }\n",
       "\n",
       "    .dataframe tbody tr th {\n",
       "        vertical-align: top;\n",
       "    }\n",
       "\n",
       "    .dataframe thead th {\n",
       "        text-align: right;\n",
       "    }\n",
       "</style>\n",
       "<table border=\"1\" class=\"dataframe\">\n",
       "  <thead>\n",
       "    <tr style=\"text-align: right;\">\n",
       "      <th></th>\n",
       "      <th>iyear</th>\n",
       "      <th>imonth</th>\n",
       "      <th>iday</th>\n",
       "      <th>extended</th>\n",
       "      <th>country</th>\n",
       "      <th>region</th>\n",
       "      <th>latitude</th>\n",
       "      <th>longitude</th>\n",
       "      <th>specificity</th>\n",
       "      <th>vicinity</th>\n",
       "      <th>...</th>\n",
       "      <th>natlty1</th>\n",
       "      <th>guncertain1</th>\n",
       "      <th>individual</th>\n",
       "      <th>weaptype1</th>\n",
       "      <th>property</th>\n",
       "      <th>ishostkid</th>\n",
       "      <th>INT_LOG</th>\n",
       "      <th>INT_IDEO</th>\n",
       "      <th>INT_MISC</th>\n",
       "      <th>INT_ANY</th>\n",
       "    </tr>\n",
       "  </thead>\n",
       "  <tbody>\n",
       "    <tr>\n",
       "      <th>count</th>\n",
       "      <td>40963.000000</td>\n",
       "      <td>40963.000000</td>\n",
       "      <td>40963.000000</td>\n",
       "      <td>40963.000000</td>\n",
       "      <td>40963.000000</td>\n",
       "      <td>40963.000000</td>\n",
       "      <td>40963.000000</td>\n",
       "      <td>40963.000000</td>\n",
       "      <td>40963.000000</td>\n",
       "      <td>40963.000000</td>\n",
       "      <td>...</td>\n",
       "      <td>40963.000000</td>\n",
       "      <td>40963.000000</td>\n",
       "      <td>40963.000000</td>\n",
       "      <td>40963.000000</td>\n",
       "      <td>40963.000000</td>\n",
       "      <td>40963.000000</td>\n",
       "      <td>40963.000000</td>\n",
       "      <td>40963.000000</td>\n",
       "      <td>40963.000000</td>\n",
       "      <td>40963.000000</td>\n",
       "    </tr>\n",
       "    <tr>\n",
       "      <th>mean</th>\n",
       "      <td>2001.930181</td>\n",
       "      <td>6.479506</td>\n",
       "      <td>15.459024</td>\n",
       "      <td>0.044772</td>\n",
       "      <td>133.977882</td>\n",
       "      <td>7.154359</td>\n",
       "      <td>23.304261</td>\n",
       "      <td>26.491808</td>\n",
       "      <td>1.351439</td>\n",
       "      <td>0.068159</td>\n",
       "      <td>...</td>\n",
       "      <td>128.307595</td>\n",
       "      <td>0.084906</td>\n",
       "      <td>0.002685</td>\n",
       "      <td>6.423065</td>\n",
       "      <td>-0.521593</td>\n",
       "      <td>0.059590</td>\n",
       "      <td>-4.636697</td>\n",
       "      <td>-4.556502</td>\n",
       "      <td>0.115446</td>\n",
       "      <td>-4.036350</td>\n",
       "    </tr>\n",
       "    <tr>\n",
       "      <th>std</th>\n",
       "      <td>13.122697</td>\n",
       "      <td>3.387652</td>\n",
       "      <td>8.808059</td>\n",
       "      <td>0.206806</td>\n",
       "      <td>114.105485</td>\n",
       "      <td>2.928151</td>\n",
       "      <td>18.909227</td>\n",
       "      <td>58.325683</td>\n",
       "      <td>0.824570</td>\n",
       "      <td>0.296114</td>\n",
       "      <td>...</td>\n",
       "      <td>87.963605</td>\n",
       "      <td>0.278745</td>\n",
       "      <td>0.051751</td>\n",
       "      <td>2.145928</td>\n",
       "      <td>3.110593</td>\n",
       "      <td>0.453263</td>\n",
       "      <td>4.541567</td>\n",
       "      <td>4.630690</td>\n",
       "      <td>0.319563</td>\n",
       "      <td>4.697361</td>\n",
       "    </tr>\n",
       "    <tr>\n",
       "      <th>min</th>\n",
       "      <td>1970.000000</td>\n",
       "      <td>0.000000</td>\n",
       "      <td>0.000000</td>\n",
       "      <td>0.000000</td>\n",
       "      <td>4.000000</td>\n",
       "      <td>1.000000</td>\n",
       "      <td>-45.571112</td>\n",
       "      <td>-176.176447</td>\n",
       "      <td>1.000000</td>\n",
       "      <td>-9.000000</td>\n",
       "      <td>...</td>\n",
       "      <td>4.000000</td>\n",
       "      <td>0.000000</td>\n",
       "      <td>0.000000</td>\n",
       "      <td>1.000000</td>\n",
       "      <td>-9.000000</td>\n",
       "      <td>-9.000000</td>\n",
       "      <td>-9.000000</td>\n",
       "      <td>-9.000000</td>\n",
       "      <td>0.000000</td>\n",
       "      <td>-9.000000</td>\n",
       "    </tr>\n",
       "    <tr>\n",
       "      <th>25%</th>\n",
       "      <td>1990.000000</td>\n",
       "      <td>4.000000</td>\n",
       "      <td>8.000000</td>\n",
       "      <td>0.000000</td>\n",
       "      <td>78.000000</td>\n",
       "      <td>5.000000</td>\n",
       "      <td>10.990000</td>\n",
       "      <td>2.837594</td>\n",
       "      <td>1.000000</td>\n",
       "      <td>0.000000</td>\n",
       "      <td>...</td>\n",
       "      <td>83.000000</td>\n",
       "      <td>0.000000</td>\n",
       "      <td>0.000000</td>\n",
       "      <td>5.000000</td>\n",
       "      <td>0.000000</td>\n",
       "      <td>0.000000</td>\n",
       "      <td>-9.000000</td>\n",
       "      <td>-9.000000</td>\n",
       "      <td>0.000000</td>\n",
       "      <td>-9.000000</td>\n",
       "    </tr>\n",
       "    <tr>\n",
       "      <th>50%</th>\n",
       "      <td>2008.000000</td>\n",
       "      <td>6.000000</td>\n",
       "      <td>15.000000</td>\n",
       "      <td>0.000000</td>\n",
       "      <td>102.000000</td>\n",
       "      <td>7.000000</td>\n",
       "      <td>31.363648</td>\n",
       "      <td>43.130000</td>\n",
       "      <td>1.000000</td>\n",
       "      <td>0.000000</td>\n",
       "      <td>...</td>\n",
       "      <td>104.000000</td>\n",
       "      <td>0.000000</td>\n",
       "      <td>0.000000</td>\n",
       "      <td>6.000000</td>\n",
       "      <td>1.000000</td>\n",
       "      <td>0.000000</td>\n",
       "      <td>-9.000000</td>\n",
       "      <td>-9.000000</td>\n",
       "      <td>0.000000</td>\n",
       "      <td>0.000000</td>\n",
       "    </tr>\n",
       "    <tr>\n",
       "      <th>75%</th>\n",
       "      <td>2014.000000</td>\n",
       "      <td>9.000000</td>\n",
       "      <td>23.000000</td>\n",
       "      <td>0.000000</td>\n",
       "      <td>160.000000</td>\n",
       "      <td>10.000000</td>\n",
       "      <td>34.716259</td>\n",
       "      <td>68.437196</td>\n",
       "      <td>1.000000</td>\n",
       "      <td>0.000000</td>\n",
       "      <td>...</td>\n",
       "      <td>182.000000</td>\n",
       "      <td>0.000000</td>\n",
       "      <td>0.000000</td>\n",
       "      <td>6.000000</td>\n",
       "      <td>1.000000</td>\n",
       "      <td>0.000000</td>\n",
       "      <td>0.000000</td>\n",
       "      <td>0.000000</td>\n",
       "      <td>0.000000</td>\n",
       "      <td>0.000000</td>\n",
       "    </tr>\n",
       "    <tr>\n",
       "      <th>max</th>\n",
       "      <td>2016.000000</td>\n",
       "      <td>12.000000</td>\n",
       "      <td>31.000000</td>\n",
       "      <td>1.000000</td>\n",
       "      <td>1004.000000</td>\n",
       "      <td>12.000000</td>\n",
       "      <td>74.633553</td>\n",
       "      <td>178.441900</td>\n",
       "      <td>4.000000</td>\n",
       "      <td>1.000000</td>\n",
       "      <td>...</td>\n",
       "      <td>1004.000000</td>\n",
       "      <td>1.000000</td>\n",
       "      <td>1.000000</td>\n",
       "      <td>13.000000</td>\n",
       "      <td>1.000000</td>\n",
       "      <td>1.000000</td>\n",
       "      <td>1.000000</td>\n",
       "      <td>1.000000</td>\n",
       "      <td>1.000000</td>\n",
       "      <td>1.000000</td>\n",
       "    </tr>\n",
       "  </tbody>\n",
       "</table>\n",
       "<p>8 rows × 29 columns</p>\n",
       "</div>"
      ],
      "text/plain": [
       "              iyear        imonth          iday      extended       country  \\\n",
       "count  40963.000000  40963.000000  40963.000000  40963.000000  40963.000000   \n",
       "mean    2001.930181      6.479506     15.459024      0.044772    133.977882   \n",
       "std       13.122697      3.387652      8.808059      0.206806    114.105485   \n",
       "min     1970.000000      0.000000      0.000000      0.000000      4.000000   \n",
       "25%     1990.000000      4.000000      8.000000      0.000000     78.000000   \n",
       "50%     2008.000000      6.000000     15.000000      0.000000    102.000000   \n",
       "75%     2014.000000      9.000000     23.000000      0.000000    160.000000   \n",
       "max     2016.000000     12.000000     31.000000      1.000000   1004.000000   \n",
       "\n",
       "             region      latitude     longitude   specificity      vicinity  \\\n",
       "count  40963.000000  40963.000000  40963.000000  40963.000000  40963.000000   \n",
       "mean       7.154359     23.304261     26.491808      1.351439      0.068159   \n",
       "std        2.928151     18.909227     58.325683      0.824570      0.296114   \n",
       "min        1.000000    -45.571112   -176.176447      1.000000     -9.000000   \n",
       "25%        5.000000     10.990000      2.837594      1.000000      0.000000   \n",
       "50%        7.000000     31.363648     43.130000      1.000000      0.000000   \n",
       "75%       10.000000     34.716259     68.437196      1.000000      0.000000   \n",
       "max       12.000000     74.633553    178.441900      4.000000      1.000000   \n",
       "\n",
       "           ...            natlty1   guncertain1    individual     weaptype1  \\\n",
       "count      ...       40963.000000  40963.000000  40963.000000  40963.000000   \n",
       "mean       ...         128.307595      0.084906      0.002685      6.423065   \n",
       "std        ...          87.963605      0.278745      0.051751      2.145928   \n",
       "min        ...           4.000000      0.000000      0.000000      1.000000   \n",
       "25%        ...          83.000000      0.000000      0.000000      5.000000   \n",
       "50%        ...         104.000000      0.000000      0.000000      6.000000   \n",
       "75%        ...         182.000000      0.000000      0.000000      6.000000   \n",
       "max        ...        1004.000000      1.000000      1.000000     13.000000   \n",
       "\n",
       "           property     ishostkid       INT_LOG      INT_IDEO      INT_MISC  \\\n",
       "count  40963.000000  40963.000000  40963.000000  40963.000000  40963.000000   \n",
       "mean      -0.521593      0.059590     -4.636697     -4.556502      0.115446   \n",
       "std        3.110593      0.453263      4.541567      4.630690      0.319563   \n",
       "min       -9.000000     -9.000000     -9.000000     -9.000000      0.000000   \n",
       "25%        0.000000      0.000000     -9.000000     -9.000000      0.000000   \n",
       "50%        1.000000      0.000000     -9.000000     -9.000000      0.000000   \n",
       "75%        1.000000      0.000000      0.000000      0.000000      0.000000   \n",
       "max        1.000000      1.000000      1.000000      1.000000      1.000000   \n",
       "\n",
       "            INT_ANY  \n",
       "count  40963.000000  \n",
       "mean      -4.036350  \n",
       "std        4.697361  \n",
       "min       -9.000000  \n",
       "25%       -9.000000  \n",
       "50%        0.000000  \n",
       "75%        0.000000  \n",
       "max        1.000000  \n",
       "\n",
       "[8 rows x 29 columns]"
      ]
     },
     "execution_count": 31,
     "metadata": {},
     "output_type": "execute_result"
    }
   ],
   "source": [
    "idx_gtd = gtd.dtypes[(gtd.dtypes == 'float64') |\n",
    "              (gtd.dtypes == 'int64')].index                                   \n",
    "\n",
    "nums = gtd.reindex(idx_gtd, axis=1)\n",
    "\n",
    "nums.drop(['eventid'], axis=1, inplace=True)\n",
    "\n",
    "nums.dropna(axis=1, inplace=True, thresh=nums.shape[0] * 0.95)\n",
    "nums.dropna(inplace=True)\n",
    "\n",
    "print(nums.info())\n",
    "nums.describe()"
   ]
  },
  {
   "cell_type": "markdown",
   "metadata": {},
   "source": [
    "### Correlated attributes"
   ]
  },
  {
   "cell_type": "code",
   "execution_count": 32,
   "metadata": {},
   "outputs": [],
   "source": [
    "def cors(data, threshold=0.5, sort=False):\n",
    "    \"\"\"Lists correlation pairs and their correlation values above a correlation threshold.\n",
    "    \n",
    "    `data`: DataFrame\n",
    "    \n",
    "    `threshold`: The correlation value above which it shows the correlation pairs.\n",
    "    \n",
    "    `paired`: True\n",
    "    Organizes the correlation pairs according to attributes.\n",
    "    If False, it shows the correlation pairs values in the descending order.\n",
    "    \"\"\"\n",
    "    \n",
    "    corrs = data.corr()\n",
    "    \n",
    "    cri_hi = abs(corrs < 1) & abs(corrs >= threshold)\n",
    "    corr_hi = corrs[cri_hi].stack().reset_index()\n",
    "    corr_hi.columns = ['first', 'second', 'corr']\n",
    "    \n",
    "    if sort == True:\n",
    "        output = corr_hi.sort_values(by='corr', ascending=False)\n",
    "    else: \n",
    "        output = corrs[cri_hi].stack()\n",
    "    \n",
    "    return output"
   ]
  },
  {
   "cell_type": "code",
   "execution_count": 33,
   "metadata": {},
   "outputs": [
    {
     "data": {
      "text/plain": [
       "eventid       iyear           0.999995\n",
       "iyear         eventid         0.999995\n",
       "crit3         alternative     0.724507\n",
       "alternative   crit3           0.724507\n",
       "attacktype2   guncertain3     0.979864\n",
       "targtype1     targsubtype1    0.987687\n",
       "targsubtype1  targtype1       0.987687\n",
       "targsubtype2  guncertain3     0.803903\n",
       "targtype3     targsubtype3    0.977063\n",
       "              claimmode2      0.928571\n",
       "targsubtype3  targtype3       0.977063\n",
       "              claimmode2      0.854440\n",
       "guncertain1   guncertain3     0.785747\n",
       "guncertain2   guncertain3     0.831522\n",
       "guncertain3   attacktype2     0.979864\n",
       "              targsubtype2    0.803903\n",
       "              guncertain1     0.785747\n",
       "              guncertain2     0.831522\n",
       "              weapsubtype3    0.980154\n",
       "claim2        claim3          0.767610\n",
       "claimmode2    targtype3       0.928571\n",
       "              targsubtype3    0.854440\n",
       "claim3        claim2          0.767610\n",
       "weaptype1     weapsubtype1    0.754327\n",
       "weapsubtype1  weaptype1       0.754327\n",
       "weaptype2     weapsubtype2    0.918374\n",
       "weapsubtype2  weaptype2       0.918374\n",
       "weaptype3     weapsubtype3    0.945546\n",
       "weapsubtype3  guncertain3     0.980154\n",
       "              weaptype3       0.945546\n",
       "weaptype4     weapsubtype4    0.915430\n",
       "weapsubtype4  weaptype4       0.915430\n",
       "              propvalue       0.737043\n",
       "propvalue     weapsubtype4    0.737043\n",
       "INT_LOG       INT_IDEO        0.996098\n",
       "              INT_ANY         0.885014\n",
       "INT_IDEO      INT_LOG         0.996098\n",
       "              INT_ANY         0.887752\n",
       "INT_ANY       INT_LOG         0.885014\n",
       "              INT_IDEO        0.887752\n",
       "dtype: float64"
      ]
     },
     "execution_count": 33,
     "metadata": {},
     "output_type": "execute_result"
    }
   ],
   "source": [
    "cors(gtd, 0.7, sort=False)"
   ]
  },
  {
   "cell_type": "raw",
   "metadata": {
    "scrolled": true
   },
   "source": [
    "corats = cors(gtd, 0.7, sort=False).index.values\n",
    "corats"
   ]
  },
  {
   "cell_type": "markdown",
   "metadata": {},
   "source": [
    "## Outliers"
   ]
  },
  {
   "cell_type": "code",
   "execution_count": 34,
   "metadata": {
    "scrolled": true
   },
   "outputs": [
    {
     "data": {
      "text/plain": [
       "iyear             AxesSubplot(0.125,0.772143;0.133621x0.107857)\n",
       "imonth         AxesSubplot(0.285345,0.772143;0.133621x0.107857)\n",
       "iday            AxesSubplot(0.44569,0.772143;0.133621x0.107857)\n",
       "extended       AxesSubplot(0.606034,0.772143;0.133621x0.107857)\n",
       "country        AxesSubplot(0.766379,0.772143;0.133621x0.107857)\n",
       "region            AxesSubplot(0.125,0.642714;0.133621x0.107857)\n",
       "latitude       AxesSubplot(0.285345,0.642714;0.133621x0.107857)\n",
       "longitude       AxesSubplot(0.44569,0.642714;0.133621x0.107857)\n",
       "specificity    AxesSubplot(0.606034,0.642714;0.133621x0.107857)\n",
       "vicinity       AxesSubplot(0.766379,0.642714;0.133621x0.107857)\n",
       "crit1             AxesSubplot(0.125,0.513286;0.133621x0.107857)\n",
       "crit2          AxesSubplot(0.285345,0.513286;0.133621x0.107857)\n",
       "crit3           AxesSubplot(0.44569,0.513286;0.133621x0.107857)\n",
       "doubtterr      AxesSubplot(0.606034,0.513286;0.133621x0.107857)\n",
       "multiple       AxesSubplot(0.766379,0.513286;0.133621x0.107857)\n",
       "success           AxesSubplot(0.125,0.383857;0.133621x0.107857)\n",
       "suicide        AxesSubplot(0.285345,0.383857;0.133621x0.107857)\n",
       "attacktype1     AxesSubplot(0.44569,0.383857;0.133621x0.107857)\n",
       "targtype1      AxesSubplot(0.606034,0.383857;0.133621x0.107857)\n",
       "natlty1        AxesSubplot(0.766379,0.383857;0.133621x0.107857)\n",
       "guncertain1       AxesSubplot(0.125,0.254429;0.133621x0.107857)\n",
       "individual     AxesSubplot(0.285345,0.254429;0.133621x0.107857)\n",
       "weaptype1       AxesSubplot(0.44569,0.254429;0.133621x0.107857)\n",
       "property       AxesSubplot(0.606034,0.254429;0.133621x0.107857)\n",
       "ishostkid      AxesSubplot(0.766379,0.254429;0.133621x0.107857)\n",
       "INT_LOG              AxesSubplot(0.125,0.125;0.133621x0.107857)\n",
       "INT_IDEO          AxesSubplot(0.285345,0.125;0.133621x0.107857)\n",
       "INT_MISC           AxesSubplot(0.44569,0.125;0.133621x0.107857)\n",
       "INT_ANY           AxesSubplot(0.606034,0.125;0.133621x0.107857)\n",
       "dtype: object"
      ]
     },
     "execution_count": 34,
     "metadata": {},
     "output_type": "execute_result"
    },
    {
     "data": {
      "image/png": "[encoded data removed]",
      "text/plain": [
       "<matplotlib.figure.Figure at 0x7fddabe80160>"
      ]
     },
     "metadata": {},
     "output_type": "display_data"
    }
   ],
   "source": [
    "nums.plot(kind='box', subplots=True, layout=(6,5), figsize=(25, 25), fontsize=20)"
   ]
  },
  {
   "cell_type": "markdown",
   "metadata": {},
   "source": [
    "from sklearn.neighbors import LocalOutlierFactor\n",
    "\n",
    "lof = LocalOutlierFactor(n_neighbors=10)\n",
    "\n",
    "lof_pre = lof.fit_predict(nums)\n",
    "lof_pre"
   ]
  },
  {
   "cell_type": "code",
   "execution_count": 35,
   "metadata": {},
   "outputs": [],
   "source": [
    "#ele = EllipticEnvelope()\n",
    "#onecsvm = OneClassSVM()"
   ]
  },
  {
   "cell_type": "raw",
   "metadata": {},
   "source": [
    "#pd.Series(ele_pre).value_counts()"
   ]
  },
  {
   "cell_type": "markdown",
   "metadata": {},
   "source": [
    "# Data preprocessing"
   ]
  },
  {
   "cell_type": "markdown",
   "metadata": {},
   "source": [
    "In the first round, we preprocess the data to create a viable minimum set, on which we start model testing. This consists of the following steps:\n",
    "1. Dropping special attributes\n",
    "* Excluding incidents with 'unknown' perpetrators\n",
    "* Excluding 'unaffiliated' individuals\n",
    "* Excluding the ambiguous cases\n",
    "* Including only general names and only of the primary perpetrators (i.e. `gname`)\n",
    "* Dropping all missing values\n",
    "* Including only numerical values\n",
    "* Excluding data before 2012\n",
    "* Including only the top perpetrators responsible for 95% of total incidents"
   ]
  },
  {
   "cell_type": "markdown",
   "metadata": {},
   "source": [
    "## Dropping special attributes"
   ]
  },
  {
   "cell_type": "markdown",
   "metadata": {},
   "source": [
    "The special attributes of the dataset:\n",
    "* eventid\n",
    "* addnotes\n",
    "* scite1\n",
    "* scite2\n",
    "* scite3\n",
    "* dbsource\n",
    "\n"
   ]
  },
  {
   "cell_type": "markdown",
   "metadata": {},
   "source": [
    "## Attribute specific changes"
   ]
  },
  {
   "cell_type": "code",
   "execution_count": 36,
   "metadata": {
    "scrolled": true
   },
   "outputs": [
    {
     "data": {
      "text/plain": [
       "5     3843\n",
       "7     3826\n",
       "10    3727\n",
       "6     3689\n",
       "8     3665\n",
       "3     3606\n",
       "1     3522\n",
       "4     3493\n",
       "11    3476\n",
       "9     3371\n",
       "2     3234\n",
       "12    3130\n",
       "0        6\n",
       "Name: imonth, dtype: int64"
      ]
     },
     "execution_count": 36,
     "metadata": {},
     "output_type": "execute_result"
    }
   ],
   "source": [
    "gtd.imonth.value_counts()"
   ]
  },
  {
   "cell_type": "code",
   "execution_count": 37,
   "metadata": {
    "scrolled": true
   },
   "outputs": [
    {
     "name": "stderr",
     "output_type": "stream",
     "text": [
      "/home/andras/anaconda3/lib/python3.6/site-packages/ipykernel_launcher.py:1: SettingWithCopyWarning: \n",
      "A value is trying to be set on a copy of a slice from a DataFrame\n",
      "\n",
      "See the caveats in the documentation: http://pandas.pydata.org/pandas-docs/stable/indexing.html#indexing-view-versus-copy\n",
      "  \"\"\"Entry point for launching an IPython kernel.\n"
     ]
    }
   ],
   "source": [
    "gtd.imonth[gtd.imonth == 0] = np.random.randint(1, 13)"
   ]
  },
  {
   "cell_type": "markdown",
   "metadata": {},
   "source": [
    "### Replacing 'in-built' missing values with numpy NaN"
   ]
  },
  {
   "cell_type": "code",
   "execution_count": 38,
   "metadata": {},
   "outputs": [],
   "source": [
    "missing_signs = [0, -9, -99]"
   ]
  },
  {
   "cell_type": "code",
   "execution_count": 39,
   "metadata": {},
   "outputs": [],
   "source": [
    "mis_zero = ['imonth', 'iday']\n",
    "mis_min9 = ['doubterr', 'vicinity', 'property', 'ishostkid', 'ransom', 'property', 'ishostkid']\n",
    "mis_min99 = ['nperps', 'nperpcap', 'complaim', 'nhostkid', 'nhostkidus', 'nhours', 'ndays', 'ransomamt', 'ransomus', 'ransomamtus', 'ransompaid', 'ransompaidus', 'nreleased', 'ishostkidus', 'nhostkid', 'nhostkidus', 'nhours', 'ndays', 'ransomamt', 'ransomus', 'ransomamtus', 'ransompaid', 'ransompaidus', 'nreleased']"
   ]
  },
  {
   "cell_type": "code",
   "execution_count": 40,
   "metadata": {},
   "outputs": [],
   "source": [
    "miscodes = {\"0\": mis_zero, \n",
    "            \"-9\": mis_min9, \n",
    "            \"-99\": mis_min99}"
   ]
  },
  {
   "cell_type": "code",
   "execution_count": 41,
   "metadata": {},
   "outputs": [],
   "source": [
    "def replacenan(collist, nanvalue):\n",
    "    \"\"\"Replaces columns' missing value code with numpy NaN.\n",
    "    \n",
    "    Parameters:\n",
    "    `collist` : list of column names\n",
    "    \n",
    "    `nanvalue` : the code of the missing value in the particular column\n",
    "    \"\"\"\n",
    "\n",
    "    for col in collist:\n",
    "        if col in gtd.columns:\n",
    "            gtd.replace(to_replace=nanvalue, value=np.NaN, inplace=True)\n",
    "\n",
    "            print(\"\\n{}:\\n\\n{}\\n\".format(col, valcounts))\n",
    "\n",
    "        else:\n",
    "            print(\"'{}' is not among the dataframe's columns.\".format(col))"
   ]
  },
  {
   "cell_type": "code",
   "execution_count": 42,
   "metadata": {},
   "outputs": [
    {
     "data": {
      "text/plain": [
       "24180.162962962964"
      ]
     },
     "execution_count": 42,
     "metadata": {},
     "output_type": "execute_result"
    }
   ],
   "source": [
    "gtd.isnull()[gtd.isnull() == True].count().mean()"
   ]
  },
  {
   "cell_type": "code",
   "execution_count": 43,
   "metadata": {
    "scrolled": true
   },
   "outputs": [],
   "source": [
    "#for code in miscodes:\n",
    "#    replacenan(miscodes[code], code)"
   ]
  },
  {
   "cell_type": "code",
   "execution_count": 61,
   "metadata": {},
   "outputs": [
    {
     "data": {
      "text/plain": [
       "array(['eventid', 'iyear', 'imonth', 'iday', 'approxdate', 'extended',\n",
       "       'resolution', 'country', 'country_txt', 'region', 'region_txt',\n",
       "       'provstate', 'city', 'latitude', 'longitude', 'specificity',\n",
       "       'vicinity', 'location', 'summary', 'crit1', 'crit2', 'crit3',\n",
       "       'doubtterr', 'alternative', 'alternative_txt', 'multiple',\n",
       "       'success', 'suicide', 'attacktype1', 'attacktype1_txt',\n",
       "       'attacktype2', 'attacktype2_txt', 'attacktype3', 'attacktype3_txt',\n",
       "       'targtype1', 'targtype1_txt', 'targsubtype1', 'targsubtype1_txt',\n",
       "       'corp1', 'target1', 'natlty1', 'natlty1_txt', 'targtype2',\n",
       "       'targtype2_txt', 'targsubtype2', 'targsubtype2_txt', 'corp2',\n",
       "       'target2', 'natlty2', 'natlty2_txt', 'targtype3', 'targtype3_txt',\n",
       "       'targsubtype3', 'targsubtype3_txt', 'corp3', 'target3', 'natlty3',\n",
       "       'natlty3_txt', 'gname', 'gsubname', 'gname2', 'gsubname2',\n",
       "       'gname3', 'gsubname3', 'motive', 'guncertain1', 'guncertain2',\n",
       "       'guncertain3', 'individual', 'nperps', 'nperpcap', 'claimed',\n",
       "       'claimmode', 'claimmode_txt', 'claim2', 'claimmode2',\n",
       "       'claimmode2_txt', 'claim3', 'claimmode3', 'claimmode3_txt',\n",
       "       'compclaim', 'weaptype1', 'weaptype1_txt', 'weapsubtype1',\n",
       "       'weapsubtype1_txt', 'weaptype2', 'weaptype2_txt', 'weapsubtype2',\n",
       "       'weapsubtype2_txt', 'weaptype3', 'weaptype3_txt', 'weapsubtype3',\n",
       "       'weapsubtype3_txt', 'weaptype4', 'weaptype4_txt', 'weapsubtype4',\n",
       "       'weapsubtype4_txt', 'weapdetail', 'nkill', 'nkillus', 'nkillter',\n",
       "       'nwound', 'nwoundus', 'nwoundte', 'property', 'propextent',\n",
       "       'propextent_txt', 'propvalue', 'propcomment', 'ishostkid',\n",
       "       'nhostkid', 'nhostkidus', 'nhours', 'ndays', 'divert',\n",
       "       'kidhijcountry', 'ransom', 'ransomamt', 'ransomamtus',\n",
       "       'ransompaid', 'ransompaidus', 'ransomnote', 'hostkidoutcome',\n",
       "       'hostkidoutcome_txt', 'nreleased', 'addnotes', 'scite1', 'scite2',\n",
       "       'scite3', 'dbsource', 'INT_LOG', 'INT_IDEO', 'INT_MISC', 'INT_ANY',\n",
       "       'related'], dtype=object)"
      ]
     },
     "execution_count": 61,
     "metadata": {},
     "output_type": "execute_result"
    }
   ],
   "source": [
    "gtd.columns.values"
   ]
  },
  {
   "cell_type": "code",
   "execution_count": 58,
   "metadata": {},
   "outputs": [
    {
     "ename": "KeyError",
     "evalue": "\"['doubterr'] not in index\"",
     "output_type": "error",
     "traceback": [
      "\u001b[0;31m---------------------------------------------------------------------------\u001b[0m",
      "\u001b[0;31mKeyError\u001b[0m                                  Traceback (most recent call last)",
      "\u001b[0;32m<ipython-input-58-653931ed6ba9>\u001b[0m in \u001b[0;36m<module>\u001b[0;34m()\u001b[0m\n\u001b[1;32m      1\u001b[0m \u001b[0;32mfor\u001b[0m \u001b[0mcol\u001b[0m \u001b[0;32min\u001b[0m \u001b[0mrange\u001b[0m\u001b[0;34m(\u001b[0m\u001b[0mlen\u001b[0m\u001b[0;34m(\u001b[0m\u001b[0;34m[\u001b[0m\u001b[0;34m'doubterr'\u001b[0m\u001b[0;34m,\u001b[0m \u001b[0;34m'vicinity'\u001b[0m\u001b[0;34m,\u001b[0m \u001b[0;34m'property'\u001b[0m\u001b[0;34m,\u001b[0m \u001b[0;34m'ishostkid'\u001b[0m\u001b[0;34m,\u001b[0m \u001b[0;34m'ransom'\u001b[0m\u001b[0;34m,\u001b[0m \u001b[0;34m'property'\u001b[0m\u001b[0;34m,\u001b[0m \u001b[0;34m'ishostkid'\u001b[0m\u001b[0;34m]\u001b[0m\u001b[0;34m)\u001b[0m\u001b[0;34m)\u001b[0m\u001b[0;34m:\u001b[0m\u001b[0;34m\u001b[0m\u001b[0m\n\u001b[1;32m      2\u001b[0m \u001b[0;34m\u001b[0m\u001b[0m\n\u001b[0;32m----> 3\u001b[0;31m     \u001b[0mvalcounts\u001b[0m \u001b[0;34m=\u001b[0m \u001b[0mgtd\u001b[0m\u001b[0;34m[\u001b[0m\u001b[0;34m[\u001b[0m\u001b[0;34m'doubterr'\u001b[0m\u001b[0;34m,\u001b[0m \u001b[0;34m'vicinity'\u001b[0m\u001b[0;34m,\u001b[0m \u001b[0;34m'property'\u001b[0m\u001b[0;34m,\u001b[0m \u001b[0;34m'ishostkid'\u001b[0m\u001b[0;34m,\u001b[0m \u001b[0;34m'ransom'\u001b[0m\u001b[0;34m,\u001b[0m \u001b[0;34m'property'\u001b[0m\u001b[0;34m,\u001b[0m \u001b[0;34m'ishostkid'\u001b[0m\u001b[0;34m]\u001b[0m\u001b[0;34m]\u001b[0m\u001b[0;34m.\u001b[0m\u001b[0miloc\u001b[0m\u001b[0;34m[\u001b[0m\u001b[0;34m:\u001b[0m\u001b[0;34m,\u001b[0m\u001b[0mcol\u001b[0m\u001b[0;34m]\u001b[0m\u001b[0;34m.\u001b[0m\u001b[0mvalue_counts\u001b[0m\u001b[0;34m(\u001b[0m\u001b[0;34m)\u001b[0m\u001b[0;34m.\u001b[0m\u001b[0mhead\u001b[0m\u001b[0;34m(\u001b[0m\u001b[0;36m10\u001b[0m\u001b[0;34m)\u001b[0m\u001b[0;34m\u001b[0m\u001b[0m\n\u001b[0m\u001b[1;32m      4\u001b[0m \u001b[0;34m\u001b[0m\u001b[0m\n\u001b[1;32m      5\u001b[0m     \u001b[0mprint\u001b[0m\u001b[0;34m(\u001b[0m\u001b[0;34m\"\\n{}:\\n\\n{}\\n\"\u001b[0m\u001b[0;34m.\u001b[0m\u001b[0mformat\u001b[0m\u001b[0;34m(\u001b[0m\u001b[0mgtd\u001b[0m\u001b[0;34m.\u001b[0m\u001b[0mcolumns\u001b[0m\u001b[0;34m[\u001b[0m\u001b[0mcol\u001b[0m\u001b[0;34m]\u001b[0m\u001b[0;34m,\u001b[0m \u001b[0mvalcounts\u001b[0m\u001b[0;34m)\u001b[0m\u001b[0;34m)\u001b[0m\u001b[0;34m\u001b[0m\u001b[0m\n",
      "\u001b[0;32m~/anaconda3/lib/python3.6/site-packages/pandas/core/frame.py\u001b[0m in \u001b[0;36m__getitem__\u001b[0;34m(self, key)\u001b[0m\n\u001b[1;32m   2131\u001b[0m         \u001b[0;32mif\u001b[0m \u001b[0misinstance\u001b[0m\u001b[0;34m(\u001b[0m\u001b[0mkey\u001b[0m\u001b[0;34m,\u001b[0m \u001b[0;34m(\u001b[0m\u001b[0mSeries\u001b[0m\u001b[0;34m,\u001b[0m \u001b[0mnp\u001b[0m\u001b[0;34m.\u001b[0m\u001b[0mndarray\u001b[0m\u001b[0;34m,\u001b[0m \u001b[0mIndex\u001b[0m\u001b[0;34m,\u001b[0m \u001b[0mlist\u001b[0m\u001b[0;34m)\u001b[0m\u001b[0;34m)\u001b[0m\u001b[0;34m:\u001b[0m\u001b[0;34m\u001b[0m\u001b[0m\n\u001b[1;32m   2132\u001b[0m             \u001b[0;31m# either boolean or fancy integer index\u001b[0m\u001b[0;34m\u001b[0m\u001b[0;34m\u001b[0m\u001b[0m\n\u001b[0;32m-> 2133\u001b[0;31m             \u001b[0;32mreturn\u001b[0m \u001b[0mself\u001b[0m\u001b[0;34m.\u001b[0m\u001b[0m_getitem_array\u001b[0m\u001b[0;34m(\u001b[0m\u001b[0mkey\u001b[0m\u001b[0;34m)\u001b[0m\u001b[0;34m\u001b[0m\u001b[0m\n\u001b[0m\u001b[1;32m   2134\u001b[0m         \u001b[0;32melif\u001b[0m \u001b[0misinstance\u001b[0m\u001b[0;34m(\u001b[0m\u001b[0mkey\u001b[0m\u001b[0;34m,\u001b[0m \u001b[0mDataFrame\u001b[0m\u001b[0;34m)\u001b[0m\u001b[0;34m:\u001b[0m\u001b[0;34m\u001b[0m\u001b[0m\n\u001b[1;32m   2135\u001b[0m             \u001b[0;32mreturn\u001b[0m \u001b[0mself\u001b[0m\u001b[0;34m.\u001b[0m\u001b[0m_getitem_frame\u001b[0m\u001b[0;34m(\u001b[0m\u001b[0mkey\u001b[0m\u001b[0;34m)\u001b[0m\u001b[0;34m\u001b[0m\u001b[0m\n",
      "\u001b[0;32m~/anaconda3/lib/python3.6/site-packages/pandas/core/frame.py\u001b[0m in \u001b[0;36m_getitem_array\u001b[0;34m(self, key)\u001b[0m\n\u001b[1;32m   2175\u001b[0m             \u001b[0;32mreturn\u001b[0m \u001b[0mself\u001b[0m\u001b[0;34m.\u001b[0m\u001b[0m_take\u001b[0m\u001b[0;34m(\u001b[0m\u001b[0mindexer\u001b[0m\u001b[0;34m,\u001b[0m \u001b[0maxis\u001b[0m\u001b[0;34m=\u001b[0m\u001b[0;36m0\u001b[0m\u001b[0;34m,\u001b[0m \u001b[0mconvert\u001b[0m\u001b[0;34m=\u001b[0m\u001b[0;32mFalse\u001b[0m\u001b[0;34m)\u001b[0m\u001b[0;34m\u001b[0m\u001b[0m\n\u001b[1;32m   2176\u001b[0m         \u001b[0;32melse\u001b[0m\u001b[0;34m:\u001b[0m\u001b[0;34m\u001b[0m\u001b[0m\n\u001b[0;32m-> 2177\u001b[0;31m             \u001b[0mindexer\u001b[0m \u001b[0;34m=\u001b[0m \u001b[0mself\u001b[0m\u001b[0;34m.\u001b[0m\u001b[0mloc\u001b[0m\u001b[0;34m.\u001b[0m\u001b[0m_convert_to_indexer\u001b[0m\u001b[0;34m(\u001b[0m\u001b[0mkey\u001b[0m\u001b[0;34m,\u001b[0m \u001b[0maxis\u001b[0m\u001b[0;34m=\u001b[0m\u001b[0;36m1\u001b[0m\u001b[0;34m)\u001b[0m\u001b[0;34m\u001b[0m\u001b[0m\n\u001b[0m\u001b[1;32m   2178\u001b[0m             \u001b[0;32mreturn\u001b[0m \u001b[0mself\u001b[0m\u001b[0;34m.\u001b[0m\u001b[0m_take\u001b[0m\u001b[0;34m(\u001b[0m\u001b[0mindexer\u001b[0m\u001b[0;34m,\u001b[0m \u001b[0maxis\u001b[0m\u001b[0;34m=\u001b[0m\u001b[0;36m1\u001b[0m\u001b[0;34m,\u001b[0m \u001b[0mconvert\u001b[0m\u001b[0;34m=\u001b[0m\u001b[0;32mTrue\u001b[0m\u001b[0;34m)\u001b[0m\u001b[0;34m\u001b[0m\u001b[0m\n\u001b[1;32m   2179\u001b[0m \u001b[0;34m\u001b[0m\u001b[0m\n",
      "\u001b[0;32m~/anaconda3/lib/python3.6/site-packages/pandas/core/indexing.py\u001b[0m in \u001b[0;36m_convert_to_indexer\u001b[0;34m(self, obj, axis, is_setter)\u001b[0m\n\u001b[1;32m   1267\u001b[0m                 \u001b[0;32mif\u001b[0m \u001b[0mmask\u001b[0m\u001b[0;34m.\u001b[0m\u001b[0many\u001b[0m\u001b[0;34m(\u001b[0m\u001b[0;34m)\u001b[0m\u001b[0;34m:\u001b[0m\u001b[0;34m\u001b[0m\u001b[0m\n\u001b[1;32m   1268\u001b[0m                     raise KeyError('{mask} not in index'\n\u001b[0;32m-> 1269\u001b[0;31m                                    .format(mask=objarr[mask]))\n\u001b[0m\u001b[1;32m   1270\u001b[0m \u001b[0;34m\u001b[0m\u001b[0m\n\u001b[1;32m   1271\u001b[0m                 \u001b[0;32mreturn\u001b[0m \u001b[0m_values_from_object\u001b[0m\u001b[0;34m(\u001b[0m\u001b[0mindexer\u001b[0m\u001b[0;34m)\u001b[0m\u001b[0;34m\u001b[0m\u001b[0m\n",
      "\u001b[0;31mKeyError\u001b[0m: \"['doubterr'] not in index\""
     ]
    }
   ],
   "source": [
    "for col in range(len(['doubterr', 'vicinity', 'property', 'ishostkid', 'ransom', 'property', 'ishostkid'])):\n",
    "    \n",
    "    valcounts = gtd[['doubterr', 'vicinity', 'property', 'ishostkid', 'ransom', 'property', 'ishostkid']].iloc[:,col].value_counts().head(10)\n",
    "    \n",
    "    print(\"\\n{}:\\n\\n{}\\n\".format(gtd.columns[col], valcounts))"
   ]
  },
  {
   "cell_type": "markdown",
   "metadata": {},
   "source": [
    "Marking missing values"
   ]
  },
  {
   "cell_type": "code",
   "execution_count": 45,
   "metadata": {},
   "outputs": [],
   "source": [
    "gtd.imonth.where(gtd.imonth != 0, None, inplace=True)"
   ]
  },
  {
   "cell_type": "code",
   "execution_count": 46,
   "metadata": {},
   "outputs": [],
   "source": [
    "gtd.iday.where(gtd.iday != 0, None, inplace=True)"
   ]
  },
  {
   "cell_type": "code",
   "execution_count": 47,
   "metadata": {},
   "outputs": [],
   "source": [
    "gtd.replace(to_replace='Unknown', value=np.NaN, inplace=True)"
   ]
  },
  {
   "cell_type": "markdown",
   "metadata": {},
   "source": [
    "## Preprocessing"
   ]
  },
  {
   "cell_type": "raw",
   "metadata": {},
   "source": [
    "def preproc(data, \n",
    "            primonly=True, \n",
    "            period=(1, 5), \n",
    "            onlyknown=True, \n",
    "            nocat=True, \n",
    "            maxna=0.05,\n",
    "            topincrat=1, \n",
    "            hideind=True, \n",
    "            hideuncert=False, \n",
    "            dropspec=True,\n",
    "            dropres=True):\n",
    "    \"\"\"\n",
    "    Cleans and preprocesses dataset.\n",
    "    \n",
    "    Parameters:\n",
    "    ===========\n",
    "    \n",
    "    `primonly`: boolean, True\n",
    "    Includes only general perpetrator group names and only of the primary perpetrator (`gname`).\n",
    "    \n",
    "    `period`: tuple, (1, 5)\n",
    "    Defines the included period by setting the start and end dates:\n",
    "        '1': 1970\n",
    "        '2': 1998\n",
    "        '3': April 1 2008\n",
    "        '4': 2012\n",
    "        `5`: 2016\n",
    "    \n",
    "    `onlyknown`: boolean, True\n",
    "    Shows only incidents where the perpetrators is identified (even if with doubt).\n",
    "    \n",
    "    `nocat`: boolean, True\n",
    "    Excludes all categorical attributes from the dataset with the exception of the perpetrator group name\n",
    "    attributes (`gname`:`gsubname3`).\n",
    "    \n",
    "    `maxna`: boolean, True\n",
    "    The maximum allowed proportion of missing values within an attribute. Keeps only columns with missing \n",
    "    value ratio below the given threshold, but without the records (rows) containing the missing values.\n",
    "    For instance, a value of '0.05' means that only columns with less than 5% of missing values are kept in the dataset.\n",
    "    \n",
    "    `topincrat`: float, 1\n",
    "    Filters perpetrators based on their overall weight of contribution (in terms of number of incidents).\n",
    "    The value is the ratio of total incidents for which the selected perpetrators are responsible.\n",
    "    Perpetrators are ranked based on the number of incidents in which they are involved and the function calculates\n",
    "    their cumulative contribution. It makes the selection at or right above the threshold.\n",
    "    Example: '0.95' means selecting the perpetator groups with the highest incident ratio responsible together\n",
    "    for 95% of the total incidents.\n",
    "    \n",
    "    `hideind`: boolean, True\n",
    "    Hides individual perpetrators unaffiliated to groups.\n",
    "    \n",
    "    `hideuncert`: boolean, False\n",
    "    Hides uncertain cases\n",
    "        \n",
    "    `dropspec`: boolean, True\n",
    "    Drops special attributes.\n",
    "    \n",
    "    `dropres`: boolean, True\n",
    "    Drops the `resolution` NaTType attribute.\n",
    "    \"\"\"\n",
    "    procd = data.copy(deep=True)\n",
    "    \n",
    "    # Drop special attributes\n",
    "    if dropspec == True:\n",
    "        procd.drop(['eventid', 'addnotes', 'scite1', 'scite2', 'scite3', 'dbsource'], axis=1, inplace=True)\n",
    "\n",
    "    # Clean and set dates\n",
    "    ## Replace unknown, '0' days and months with a random value\n",
    "    ### Months\n",
    "    tm = procd.imonth[procd.imonth == 0]\n",
    "    tm = tm.apply(lambda x: np.random.randint(1, 13))\n",
    "    procd.imonth[procd.imonth == 0] = tm\n",
    "\n",
    "    ### Days\n",
    "    td = procd.iday[procd.iday == 0]\n",
    "    td = td.apply(lambda x: np.random. randint(1, 29))\n",
    "    procd.iday[procd.iday == 0] = td\n",
    "    \n",
    "    ## `period`: Filter the dataset for the choosen time period\n",
    "    dates = [1970, 1997, 2008, 2012, 2016]\n",
    "    \n",
    "    predmin = dates[period[0]-1]\n",
    "    predmax = dates[period[1]-1]\n",
    "    \n",
    "    if predmin == 2008:\n",
    "        procd = procd[((procd.iyear > predmin ) & (procd.iyear < predmax + 1)) | \n",
    "                      ((procd.iyear == predmin) & (procd.imonth >= 3))]\n",
    "    elif predmax == 2008:\n",
    "        procd = procd[((procd.iyear >= predmin ) & (procd.iyear < predmax)) | \n",
    "                      ((procd.iyear == predmax) & (procd.imonth < 3))]\n",
    "    else:\n",
    "        procd = procd[(procd.iyear >= predmin) & (procd.iyear < predmax + 1)]\n",
    "    \n",
    "    # `onlyknown`: Show only known perpetrators\n",
    "    if onlyknown == True:\n",
    "        procd = procd[procd.gname != 'Unknown']\n",
    "    \n",
    "    # `hideind`: Hide unaffiliated individuals\n",
    "    if hideind == True:\n",
    "        procd = procd[procd.individual != 1]\n",
    "    \n",
    "    # `hideuncert`: Hide uncertain cases\n",
    "    if hideuncert == True:\n",
    "        procd = procd[(procd.guncertain1 != 1) |\n",
    "                      (procd.guncertain2 != 1) |\n",
    "                      (procd.guncertain3 != 1)]\n",
    "\n",
    "    # `primonly`: Include only information about the primary perpetrator groups\n",
    "    if primonly == True:\n",
    "        procd.drop(columns=['gsubname','gname2','gsubname2','gname3','gsubname3'], axis=1, inplace=True)\n",
    "        \n",
    "    # `topincrat`: Set the threshold for the top frequent perpetrators to show.\n",
    "    tempname = procd.gname\n",
    "    idx_main_groups = tempname.value_counts()[tempname.value_counts(normalize=True).cumsum() <= topincrat].index\n",
    "    procd = procd[procd.gname.isin(idx_main_groups)]\n",
    "    \n",
    "    # Dropping polynomial attributes (except gname)\n",
    "    if nocat == True:\n",
    "        idx_nonobj = procd.dtypes[(procd.dtypes.index.isin(['gname',\n",
    "                                                            'gsubname',\n",
    "                                                            'gname2',\n",
    "                                                            'gsubname2',\n",
    "                                                            'gname3',\n",
    "                                                            'gsubname3'])) |\n",
    "                                   (procd.dtypes != 'object')].index\n",
    "                                   \n",
    "        procd = procd.reindex(idx_nonobj, axis=1)\n",
    "\n",
    "    # Drop resolution\n",
    "    if dropres == True:\n",
    "        procd.drop(columns='resolution', inplace=True)\n",
    "        \n",
    "    #print(procd)\n",
    "    \n",
    "    # Dropping missing values\n",
    "    procd.dropna(axis=1, inplace=True, thresh=procd.shape[0] * (1 - maxna))\n",
    "    procd.dropna(inplace=True)\n",
    "    \n",
    "    # Dropping correlated values\n",
    "    #procd = dropcors(procd, corthr)\n",
    "    \n",
    "    print(procd.info(verbose=True))\n",
    "    return procd"
   ]
  },
  {
   "cell_type": "code",
   "execution_count": 48,
   "metadata": {},
   "outputs": [
    {
     "ename": "NameError",
     "evalue": "name 'preproc' is not defined",
     "output_type": "error",
     "traceback": [
      "\u001b[0;31m---------------------------------------------------------------------------\u001b[0m",
      "\u001b[0;31mNameError\u001b[0m                                 Traceback (most recent call last)",
      "\u001b[0;32m<ipython-input-48-e760d011fade>\u001b[0m in \u001b[0;36m<module>\u001b[0;34m()\u001b[0m\n\u001b[1;32m      1\u001b[0m \u001b[0mmoddat\u001b[0m \u001b[0;34m=\u001b[0m \u001b[0mgtd\u001b[0m\u001b[0;34m.\u001b[0m\u001b[0mcopy\u001b[0m\u001b[0;34m(\u001b[0m\u001b[0mdeep\u001b[0m\u001b[0;34m=\u001b[0m\u001b[0;32mTrue\u001b[0m\u001b[0;34m)\u001b[0m\u001b[0;34m\u001b[0m\u001b[0m\n\u001b[0;32m----> 2\u001b[0;31m moddat = preproc(moddat, \n\u001b[0m\u001b[1;32m      3\u001b[0m                \u001b[0mprimonly\u001b[0m\u001b[0;34m=\u001b[0m\u001b[0;32mTrue\u001b[0m\u001b[0;34m,\u001b[0m\u001b[0;34m\u001b[0m\u001b[0m\n\u001b[1;32m      4\u001b[0m                \u001b[0mperiod\u001b[0m\u001b[0;34m=\u001b[0m\u001b[0;34m(\u001b[0m\u001b[0;36m1\u001b[0m\u001b[0;34m,\u001b[0m \u001b[0;36m5\u001b[0m\u001b[0;34m)\u001b[0m\u001b[0;34m,\u001b[0m\u001b[0;34m\u001b[0m\u001b[0m\n\u001b[1;32m      5\u001b[0m                \u001b[0monlyknown\u001b[0m\u001b[0;34m=\u001b[0m\u001b[0;32mTrue\u001b[0m\u001b[0;34m,\u001b[0m\u001b[0;34m\u001b[0m\u001b[0m\n",
      "\u001b[0;31mNameError\u001b[0m: name 'preproc' is not defined"
     ]
    }
   ],
   "source": [
    "moddat = gtd.copy(deep=True)\n",
    "moddat = preproc(moddat, \n",
    "               primonly=True, \n",
    "               period=(1, 5), \n",
    "               onlyknown=True, \n",
    "               nocat=True, \n",
    "               maxna=0.05, \n",
    "               topincrat=0.95, \n",
    "               hideind=False, \n",
    "               hideuncert=False, \n",
    "               dropspec=True,\n",
    "               dropres=True)"
   ]
  },
  {
   "cell_type": "markdown",
   "metadata": {},
   "source": [
    "### Correlated attributes"
   ]
  },
  {
   "cell_type": "code",
   "execution_count": null,
   "metadata": {},
   "outputs": [],
   "source": [
    "corpair = cors(moddat, 0.7, sort=True)\n",
    "corpair"
   ]
  },
  {
   "cell_type": "code",
   "execution_count": null,
   "metadata": {},
   "outputs": [],
   "source": [
    "moddat.drop(columns=['INT_LOG', 'INT_IDEO', 'targsubtype1'], inplace=True)"
   ]
  },
  {
   "cell_type": "markdown",
   "metadata": {},
   "source": [
    "# Modeling"
   ]
  },
  {
   "cell_type": "code",
   "execution_count": null,
   "metadata": {},
   "outputs": [],
   "source": [
    "X = moddat.drop(['gname'], axis=1).dropna(axis=1)\n",
    "X.dropna(axis=1, inplace=True)\n",
    "print(X.shape)"
   ]
  },
  {
   "cell_type": "code",
   "execution_count": null,
   "metadata": {},
   "outputs": [],
   "source": [
    "y = moddat.gname\n",
    "y.dropna(inplace=True)\n",
    "y.fillna(\"NaN\", inplace=True)\n",
    "y.shape"
   ]
  },
  {
   "cell_type": "code",
   "execution_count": null,
   "metadata": {},
   "outputs": [],
   "source": [
    "validation_size = 0.2\n",
    "seed = 17"
   ]
  },
  {
   "cell_type": "code",
   "execution_count": null,
   "metadata": {},
   "outputs": [],
   "source": [
    "X_train, X_validation, y_train, y_validation = train_test_split(X, y, test_size=validation_size, random_state=seed)\n",
    "print(X_train.shape)\n",
    "print(X_validation.shape)\n",
    "print(y_train.shape)\n",
    "print(y_validation.shape)"
   ]
  },
  {
   "cell_type": "code",
   "execution_count": null,
   "metadata": {},
   "outputs": [],
   "source": [
    "results = []\n",
    "names = []"
   ]
  },
  {
   "cell_type": "code",
   "execution_count": null,
   "metadata": {},
   "outputs": [],
   "source": [
    "kfold = KFold(n_splits=10, random_state=seed)"
   ]
  },
  {
   "cell_type": "markdown",
   "metadata": {},
   "source": [
    "## Trying models"
   ]
  },
  {
   "cell_type": "code",
   "execution_count": null,
   "metadata": {},
   "outputs": [],
   "source": [
    "from sklearn.metrics import classification_report\n",
    "from sklearn.metrics import confusion_matrix\n",
    "from sklearn.metrics import accuracy_score\n",
    "from sklearn.metrics import classification\n",
    "from sklearn.metrics import f1_score\n",
    "from sklearn.metrics import cohen_kappa_score\n",
    "from sklearn.metrics import hinge_loss\n",
    "from sklearn.metrics import matthews_corrcoef\n",
    "from sklearn.metrics import fbeta_score\n",
    "from sklearn.metrics import hamming_loss\n",
    "from sklearn.metrics import jaccard_similarity_score\n",
    "from sklearn.metrics import log_loss\n",
    "from sklearn.metrics import precision_recall_fscore_support\n",
    "from sklearn.metrics import precision_score\n",
    "from sklearn.metrics import precision_recall_curve\n",
    "from sklearn.metrics import recall_score\n",
    "from sklearn.metrics import zero_one_loss"
   ]
  },
  {
   "cell_type": "markdown",
   "metadata": {},
   "source": [
    "## Decisions tree"
   ]
  },
  {
   "cell_type": "code",
   "execution_count": null,
   "metadata": {},
   "outputs": [],
   "source": [
    "models = {\"Decisiong Tree Classifier\": DecisionTreeClassifier(),\n",
    "          \"K-Neighbors Classifier\": KNeighborsClassifier(), \n",
    "          \"Linear Discriminant Analysis\": LinearDiscriminantAnalysis()}\n",
    "\n",
    "# \"Logistic Regression\": LogisticRegression()"
   ]
  },
  {
   "cell_type": "code",
   "execution_count": null,
   "metadata": {},
   "outputs": [],
   "source": [
    "def predict_groups(models, X_train, y_train):\n",
    "    for model in models:\n",
    "        print(\"\\n{}:\\n\\n{}\\n\".format(model, models[model]))\n",
    "          \n",
    "        model_score = cross_val_score(models[model], X_train, y_train, cv=kfold, scoring='accuracy', verbose=True)\n",
    "        print(\"{}\\nAccuracy: {} ({}\\n)\".format(model, model_score.mean(), model_score.std()))\n",
    "        \n",
    "        model_score = cross_val_score(models[model], X_train, y_train, cv=kfold, scoring='f1_micro', verbose=True)\n",
    "        print(\"F1 micro: {} ({}\\n)\".format(model_score.mean(), model_score.std()))\n",
    "        \n",
    "        #crosval = cross_validate(model, X, y, scoring=['accuracy', 'precision_micro', 'recall_micro', 'f1_micro'])\n",
    "    "
   ]
  },
  {
   "cell_type": "code",
   "execution_count": null,
   "metadata": {},
   "outputs": [],
   "source": [
    "predict_groups(models, X_train, y_train)"
   ]
  },
  {
   "cell_type": "raw",
   "metadata": {
    "scrolled": false
   },
   "source": [
    "model.fit(X_train, Y_train)"
   ]
  },
  {
   "cell_type": "raw",
   "metadata": {},
   "source": [
    "predicted = model.predict(X_validation)"
   ]
  },
  {
   "cell_type": "raw",
   "metadata": {},
   "source": [
    "precision_recall_fscore_support(Y_validation, predicted, average='micro')"
   ]
  },
  {
   "cell_type": "raw",
   "metadata": {
    "scrolled": false
   },
   "source": [
    "cm = confusion_matrix(Y_validation, predicted)\n",
    "confmat = pd.DataFrame(cm)"
   ]
  },
  {
   "cell_type": "raw",
   "metadata": {},
   "source": [
    "def print_cm(cm, labels, hide_zeroes=False, hide_diagonal=False, hide_threshold=None):\n",
    "    \"\"\"pretty print for confusion matrixes\"\"\"\n",
    "    columnwidth = max([len(x) for x in labels] + [5])  # 5 is value length\n",
    "    empty_cell = \" \" * columnwidth\n",
    "    # Print header\n",
    "    print(\"    \" + empty_cell, end=\" \")\n",
    "    for label in labels:\n",
    "        print(\"%{0}s\".format(columnwidth) % label, end=\" \")\n",
    "    print()\n",
    "    # Print rows\n",
    "    for i, label1 in enumerate(labels):\n",
    "        print(\"    %{0}s\".format(columnwidth) % label1, end=\" \")\n",
    "        for j in range(len(labels)):\n",
    "            cell = \"%{0}.1f\".format(columnwidth) % cm[i, j]\n",
    "            if hide_zeroes:\n",
    "                cell = cell if float(cm[i, j]) != 0 else empty_cell\n",
    "            if hide_diagonal:\n",
    "                cell = cell if i != j else empty_cell\n",
    "            if hide_threshold:\n",
    "                cell = cell if cm[i, j] > hide_threshold else empty_cell\n",
    "            print(cell, end=\" \")\n",
    "        print()"
   ]
  },
  {
   "cell_type": "raw",
   "metadata": {},
   "source": [
    "clrep = classification_report(Y_validation, predicted)"
   ]
  },
  {
   "cell_type": "raw",
   "metadata": {},
   "source": [
    "import re\n",
    "from io import StringIO"
   ]
  },
  {
   "cell_type": "raw",
   "metadata": {},
   "source": [
    "def report_to_df(report):\n",
    "    report = re.sub(r\" +\", \" \", report).replace(\"avg / total\", \"avg/total\").replace(\"\\n \", \"\\n\")\n",
    "    report_df = pd.read_csv(StringIO(\"Classes\" + report), sep=' ', index_col=0)        \n",
    "    return(report_df)"
   ]
  },
  {
   "cell_type": "raw",
   "metadata": {},
   "source": [
    "def classifaction_report_csv(report):\n",
    "    report_data = []\n",
    "    \n",
    "    lines = report.split('\\n')\n",
    "    \n",
    "    for line in lines[2:-3]:\n",
    "        row = {}\n",
    "        row_data = re.split(r'\\s{2,}', line)\n",
    "        row['class'] = row_data[1]\n",
    "        row['precision'] = float(row_data[2])\n",
    "        row['recall'] = float(row_data[3])\n",
    "        row['f1_score'] = float(row_data[4])\n",
    "        row['support'] = float(row_data[-1])\n",
    "        report_data.append(row)\n",
    "        print(row)\n",
    "    \n",
    "    # dataframe = pd.DataFrame.from_dict(report_data)\n",
    "    \n",
    "    # return report_data"
   ]
  },
  {
   "cell_type": "markdown",
   "metadata": {},
   "source": [
    "## Logistic regression"
   ]
  },
  {
   "cell_type": "raw",
   "metadata": {},
   "source": [
    "model = LogisticRegression()"
   ]
  },
  {
   "cell_type": "raw",
   "metadata": {},
   "source": [
    "res_knc = cross_val_score(model, X_train, Y_train, cv=kfold, scoring='accuracy', verbose=True)"
   ]
  },
  {
   "cell_type": "raw",
   "metadata": {
    "scrolled": false
   },
   "source": [
    "print(\"Results: \\n{})\".format(res_knc))\n",
    "print(\"\\nMean: {}\".format(res_knc.mean()))\n",
    "print(\"STD: {}\".format(res_knc.std()))"
   ]
  }
 ],
 "metadata": {
  "kernelspec": {
   "display_name": "Python 3",
   "language": "python",
   "name": "python3"
  },
  "language_info": {
   "codemirror_mode": {
    "name": "ipython",
    "version": 3
   },
   "file_extension": ".py",
   "mimetype": "text/x-python",
   "name": "python",
   "nbconvert_exporter": "python",
   "pygments_lexer": "ipython3",
   "version": "3.6.4"
  }
 },
 "nbformat": 4,
 "nbformat_minor": 2
}
